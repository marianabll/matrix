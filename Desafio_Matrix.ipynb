{
  "cells": [
    {
      "cell_type": "markdown",
      "metadata": {
        "id": "uoeNeihIOPAw"
      },
      "source": [
        " Autora: Mariana Belloube\n",
        " ### Desafio de Machine Learning para monitoramento de veículos de carga: Protótipo Matrix Tracking\n",
        "\n",
        "\n",
        "**1. O Desafio:**\n",
        "  * Desenvolver código em Python para o desafio **CE263N Assignment 4** da plataforma Kaggle.\n",
        "  * Desenvolver e validar um protótipo para o monitoramento em tempo real de veículos de carga, visando agregar valor e novas funcionalidades ao produto Matrix Tracking.\n",
        "  * Considerar **Motor de Rotas**, **Banco de Dados de Trajetórias** e **Sistema de Inteligência Artificial**.\n",
        "\n",
        "**2. O Processo:**\n",
        "  * **Fase 1:** Exploração e pré-processamento dos dados e Modelagem preditiva a partir da base Kaggle.\n",
        "  * **Fase 2:** Protótipo para monitoramento em tempo real e *Valor de negócio*.\n",
        "\n"
      ]
    },
    {
      "cell_type": "markdown",
      "metadata": {
        "id": "UhtZbV1NGxXu"
      },
      "source": [
        "#####🚩 Explicação da autora:\n",
        "Esse notebook apresenta uma solução híbrida para estimativa de tempo de chegada (ETA), combinando aprendizado de máquina (**Fase 1**) com simulação de rotas reais (**Fase 2**). A proposta procurou atender ao desafio ao considerar três pilares fundamentais:\n",
        "\n",
        "1.   **Trajectory Database:** Utilizei registros históricos de viagens fornecidos pela plataforma Kaggle (que traziam coordenadas geográficas, timestamps e duração das viagens), para definir *features* como distância e velocidade média. Esse tipo de base simulou, em menor escala, o que grandes plataformas logísticas devem utilizar para alimentar seus sistemas preditivos.\n",
        "2.   **Routing Engine:**  Simulei a lógica de um routing engine ao calcular trajetos com base nas coordenadas geográficas e checkpoints intermediários com a ajuda de uma API (OpenRouteService, no presente caso), de modo a melhorar o aspecto visual e aprimorar a estimativa do tempo restante.\n",
        "3.   **Inteligência Artificial (IA):** O modelo preditivo de ETA foi construído com base em aprendizado supervisionado, a partir de algoritmos de regressão clássicos (XGBoost foi o escolhido no final). O modelo foi treinado e testado para gerar uma estimativa de chegada, fazendo com que a IA, nesse caso, se tornasse o componente-chave para transformar os dados em previsões operacionais úteis."
      ]
    },
    {
      "cell_type": "markdown",
      "metadata": {
        "id": "U90291i0N_Dw"
      },
      "source": [
        "# 👷 **Fase 1: Base Kaggle**"
      ]
    },
    {
      "cell_type": "markdown",
      "metadata": {
        "id": "qMg3JfZ3IXDl"
      },
      "source": [
        "# **1. Data Exploration**"
      ]
    },
    {
      "cell_type": "code",
      "execution_count": null,
      "metadata": {
        "id": "VQz8iwwnC5iu"
      },
      "outputs": [],
      "source": [
        "import pandas as pd\n",
        "\n",
        "train_df = pd.read_csv('train.csv')\n",
        "test_df = pd.read_csv('test.csv')"
      ]
    },
    {
      "cell_type": "code",
      "execution_count": null,
      "metadata": {
        "colab": {
          "base_uri": "https://localhost:8080/",
          "height": 143
        },
        "id": "LtMCwN5gI1_o",
        "outputId": "8a653ab9-50cf-4e88-c09e-e433836fe6b5"
      },
      "outputs": [
        {
          "data": {
            "application/vnd.google.colaboratory.intrinsic+json": {
              "type": "dataframe",
              "variable_name": "train_df"
            },
            "text/html": [
              "\n",
              "  <div id=\"df-9c7e4b0e-6291-4fce-a5d3-c24a4f14e9ee\" class=\"colab-df-container\">\n",
              "    <div>\n",
              "<style scoped>\n",
              "    .dataframe tbody tr th:only-of-type {\n",
              "        vertical-align: middle;\n",
              "    }\n",
              "\n",
              "    .dataframe tbody tr th {\n",
              "        vertical-align: top;\n",
              "    }\n",
              "\n",
              "    .dataframe thead th {\n",
              "        text-align: right;\n",
              "    }\n",
              "</style>\n",
              "<table border=\"1\" class=\"dataframe\">\n",
              "  <thead>\n",
              "    <tr style=\"text-align: right;\">\n",
              "      <th></th>\n",
              "      <th>row_id</th>\n",
              "      <th>start_lng</th>\n",
              "      <th>start_lat</th>\n",
              "      <th>end_lng</th>\n",
              "      <th>end_lat</th>\n",
              "      <th>datetime</th>\n",
              "      <th>duration</th>\n",
              "    </tr>\n",
              "  </thead>\n",
              "  <tbody>\n",
              "    <tr>\n",
              "      <th>0</th>\n",
              "      <td>0</td>\n",
              "      <td>-73.783279</td>\n",
              "      <td>40.644718</td>\n",
              "      <td>-73.963799</td>\n",
              "      <td>40.681320</td>\n",
              "      <td>2015-01-09 00:51:48</td>\n",
              "      <td>1815.0</td>\n",
              "    </tr>\n",
              "    <tr>\n",
              "      <th>1</th>\n",
              "      <td>1</td>\n",
              "      <td>-122.422385</td>\n",
              "      <td>37.789408</td>\n",
              "      <td>-122.419890</td>\n",
              "      <td>37.766692</td>\n",
              "      <td>2012-09-14 01:46:00</td>\n",
              "      <td>300.0</td>\n",
              "    </tr>\n",
              "    <tr>\n",
              "      <th>2</th>\n",
              "      <td>2</td>\n",
              "      <td>-73.885292</td>\n",
              "      <td>40.773060</td>\n",
              "      <td>-74.000076</td>\n",
              "      <td>40.761360</td>\n",
              "      <td>2015-04-19 20:26:57</td>\n",
              "      <td>2620.0</td>\n",
              "    </tr>\n",
              "  </tbody>\n",
              "</table>\n",
              "</div>\n",
              "    <div class=\"colab-df-buttons\">\n",
              "\n",
              "  <div class=\"colab-df-container\">\n",
              "    <button class=\"colab-df-convert\" onclick=\"convertToInteractive('df-9c7e4b0e-6291-4fce-a5d3-c24a4f14e9ee')\"\n",
              "            title=\"Convert this dataframe to an interactive table.\"\n",
              "            style=\"display:none;\">\n",
              "\n",
              "  <svg xmlns=\"http://www.w3.org/2000/svg\" height=\"24px\" viewBox=\"0 -960 960 960\">\n",
              "    <path d=\"M120-120v-720h720v720H120Zm60-500h600v-160H180v160Zm220 220h160v-160H400v160Zm0 220h160v-160H400v160ZM180-400h160v-160H180v160Zm440 0h160v-160H620v160ZM180-180h160v-160H180v160Zm440 0h160v-160H620v160Z\"/>\n",
              "  </svg>\n",
              "    </button>\n",
              "\n",
              "  <style>\n",
              "    .colab-df-container {\n",
              "      display:flex;\n",
              "      gap: 12px;\n",
              "    }\n",
              "\n",
              "    .colab-df-convert {\n",
              "      background-color: #E8F0FE;\n",
              "      border: none;\n",
              "      border-radius: 50%;\n",
              "      cursor: pointer;\n",
              "      display: none;\n",
              "      fill: #1967D2;\n",
              "      height: 32px;\n",
              "      padding: 0 0 0 0;\n",
              "      width: 32px;\n",
              "    }\n",
              "\n",
              "    .colab-df-convert:hover {\n",
              "      background-color: #E2EBFA;\n",
              "      box-shadow: 0px 1px 2px rgba(60, 64, 67, 0.3), 0px 1px 3px 1px rgba(60, 64, 67, 0.15);\n",
              "      fill: #174EA6;\n",
              "    }\n",
              "\n",
              "    .colab-df-buttons div {\n",
              "      margin-bottom: 4px;\n",
              "    }\n",
              "\n",
              "    [theme=dark] .colab-df-convert {\n",
              "      background-color: #3B4455;\n",
              "      fill: #D2E3FC;\n",
              "    }\n",
              "\n",
              "    [theme=dark] .colab-df-convert:hover {\n",
              "      background-color: #434B5C;\n",
              "      box-shadow: 0px 1px 3px 1px rgba(0, 0, 0, 0.15);\n",
              "      filter: drop-shadow(0px 1px 2px rgba(0, 0, 0, 0.3));\n",
              "      fill: #FFFFFF;\n",
              "    }\n",
              "  </style>\n",
              "\n",
              "    <script>\n",
              "      const buttonEl =\n",
              "        document.querySelector('#df-9c7e4b0e-6291-4fce-a5d3-c24a4f14e9ee button.colab-df-convert');\n",
              "      buttonEl.style.display =\n",
              "        google.colab.kernel.accessAllowed ? 'block' : 'none';\n",
              "\n",
              "      async function convertToInteractive(key) {\n",
              "        const element = document.querySelector('#df-9c7e4b0e-6291-4fce-a5d3-c24a4f14e9ee');\n",
              "        const dataTable =\n",
              "          await google.colab.kernel.invokeFunction('convertToInteractive',\n",
              "                                                    [key], {});\n",
              "        if (!dataTable) return;\n",
              "\n",
              "        const docLinkHtml = 'Like what you see? Visit the ' +\n",
              "          '<a target=\"_blank\" href=https://colab.research.google.com/notebooks/data_table.ipynb>data table notebook</a>'\n",
              "          + ' to learn more about interactive tables.';\n",
              "        element.innerHTML = '';\n",
              "        dataTable['output_type'] = 'display_data';\n",
              "        await google.colab.output.renderOutput(dataTable, element);\n",
              "        const docLink = document.createElement('div');\n",
              "        docLink.innerHTML = docLinkHtml;\n",
              "        element.appendChild(docLink);\n",
              "      }\n",
              "    </script>\n",
              "  </div>\n",
              "\n",
              "\n",
              "    <div id=\"df-9582d111-71f7-49d0-9d2d-2f8d1a53a47c\">\n",
              "      <button class=\"colab-df-quickchart\" onclick=\"quickchart('df-9582d111-71f7-49d0-9d2d-2f8d1a53a47c')\"\n",
              "                title=\"Suggest charts\"\n",
              "                style=\"display:none;\">\n",
              "\n",
              "<svg xmlns=\"http://www.w3.org/2000/svg\" height=\"24px\"viewBox=\"0 0 24 24\"\n",
              "     width=\"24px\">\n",
              "    <g>\n",
              "        <path d=\"M19 3H5c-1.1 0-2 .9-2 2v14c0 1.1.9 2 2 2h14c1.1 0 2-.9 2-2V5c0-1.1-.9-2-2-2zM9 17H7v-7h2v7zm4 0h-2V7h2v10zm4 0h-2v-4h2v4z\"/>\n",
              "    </g>\n",
              "</svg>\n",
              "      </button>\n",
              "\n",
              "<style>\n",
              "  .colab-df-quickchart {\n",
              "      --bg-color: #E8F0FE;\n",
              "      --fill-color: #1967D2;\n",
              "      --hover-bg-color: #E2EBFA;\n",
              "      --hover-fill-color: #174EA6;\n",
              "      --disabled-fill-color: #AAA;\n",
              "      --disabled-bg-color: #DDD;\n",
              "  }\n",
              "\n",
              "  [theme=dark] .colab-df-quickchart {\n",
              "      --bg-color: #3B4455;\n",
              "      --fill-color: #D2E3FC;\n",
              "      --hover-bg-color: #434B5C;\n",
              "      --hover-fill-color: #FFFFFF;\n",
              "      --disabled-bg-color: #3B4455;\n",
              "      --disabled-fill-color: #666;\n",
              "  }\n",
              "\n",
              "  .colab-df-quickchart {\n",
              "    background-color: var(--bg-color);\n",
              "    border: none;\n",
              "    border-radius: 50%;\n",
              "    cursor: pointer;\n",
              "    display: none;\n",
              "    fill: var(--fill-color);\n",
              "    height: 32px;\n",
              "    padding: 0;\n",
              "    width: 32px;\n",
              "  }\n",
              "\n",
              "  .colab-df-quickchart:hover {\n",
              "    background-color: var(--hover-bg-color);\n",
              "    box-shadow: 0 1px 2px rgba(60, 64, 67, 0.3), 0 1px 3px 1px rgba(60, 64, 67, 0.15);\n",
              "    fill: var(--button-hover-fill-color);\n",
              "  }\n",
              "\n",
              "  .colab-df-quickchart-complete:disabled,\n",
              "  .colab-df-quickchart-complete:disabled:hover {\n",
              "    background-color: var(--disabled-bg-color);\n",
              "    fill: var(--disabled-fill-color);\n",
              "    box-shadow: none;\n",
              "  }\n",
              "\n",
              "  .colab-df-spinner {\n",
              "    border: 2px solid var(--fill-color);\n",
              "    border-color: transparent;\n",
              "    border-bottom-color: var(--fill-color);\n",
              "    animation:\n",
              "      spin 1s steps(1) infinite;\n",
              "  }\n",
              "\n",
              "  @keyframes spin {\n",
              "    0% {\n",
              "      border-color: transparent;\n",
              "      border-bottom-color: var(--fill-color);\n",
              "      border-left-color: var(--fill-color);\n",
              "    }\n",
              "    20% {\n",
              "      border-color: transparent;\n",
              "      border-left-color: var(--fill-color);\n",
              "      border-top-color: var(--fill-color);\n",
              "    }\n",
              "    30% {\n",
              "      border-color: transparent;\n",
              "      border-left-color: var(--fill-color);\n",
              "      border-top-color: var(--fill-color);\n",
              "      border-right-color: var(--fill-color);\n",
              "    }\n",
              "    40% {\n",
              "      border-color: transparent;\n",
              "      border-right-color: var(--fill-color);\n",
              "      border-top-color: var(--fill-color);\n",
              "    }\n",
              "    60% {\n",
              "      border-color: transparent;\n",
              "      border-right-color: var(--fill-color);\n",
              "    }\n",
              "    80% {\n",
              "      border-color: transparent;\n",
              "      border-right-color: var(--fill-color);\n",
              "      border-bottom-color: var(--fill-color);\n",
              "    }\n",
              "    90% {\n",
              "      border-color: transparent;\n",
              "      border-bottom-color: var(--fill-color);\n",
              "    }\n",
              "  }\n",
              "</style>\n",
              "\n",
              "      <script>\n",
              "        async function quickchart(key) {\n",
              "          const quickchartButtonEl =\n",
              "            document.querySelector('#' + key + ' button');\n",
              "          quickchartButtonEl.disabled = true;  // To prevent multiple clicks.\n",
              "          quickchartButtonEl.classList.add('colab-df-spinner');\n",
              "          try {\n",
              "            const charts = await google.colab.kernel.invokeFunction(\n",
              "                'suggestCharts', [key], {});\n",
              "          } catch (error) {\n",
              "            console.error('Error during call to suggestCharts:', error);\n",
              "          }\n",
              "          quickchartButtonEl.classList.remove('colab-df-spinner');\n",
              "          quickchartButtonEl.classList.add('colab-df-quickchart-complete');\n",
              "        }\n",
              "        (() => {\n",
              "          let quickchartButtonEl =\n",
              "            document.querySelector('#df-9582d111-71f7-49d0-9d2d-2f8d1a53a47c button');\n",
              "          quickchartButtonEl.style.display =\n",
              "            google.colab.kernel.accessAllowed ? 'block' : 'none';\n",
              "        })();\n",
              "      </script>\n",
              "    </div>\n",
              "\n",
              "    </div>\n",
              "  </div>\n"
            ],
            "text/plain": [
              "   row_id   start_lng  start_lat     end_lng    end_lat             datetime  \\\n",
              "0       0  -73.783279  40.644718  -73.963799  40.681320  2015-01-09 00:51:48   \n",
              "1       1 -122.422385  37.789408 -122.419890  37.766692  2012-09-14 01:46:00   \n",
              "2       2  -73.885292  40.773060  -74.000076  40.761360  2015-04-19 20:26:57   \n",
              "\n",
              "   duration  \n",
              "0    1815.0  \n",
              "1     300.0  \n",
              "2    2620.0  "
            ]
          },
          "execution_count": 2,
          "metadata": {},
          "output_type": "execute_result"
        }
      ],
      "source": [
        "# Entendendo a estrutura:\n",
        "train_df.head(3)"
      ]
    },
    {
      "cell_type": "code",
      "execution_count": null,
      "metadata": {
        "colab": {
          "base_uri": "https://localhost:8080/"
        },
        "id": "4D5s3JGFI-tE",
        "outputId": "077b3fde-932f-4671-ca8c-c247eaf4c92c"
      },
      "outputs": [
        {
          "name": "stdout",
          "output_type": "stream",
          "text": [
            "<class 'pandas.core.frame.DataFrame'>\n",
            "RangeIndex: 146001 entries, 0 to 146000\n",
            "Data columns (total 7 columns):\n",
            " #   Column     Non-Null Count   Dtype  \n",
            "---  ------     --------------   -----  \n",
            " 0   row_id     146001 non-null  int64  \n",
            " 1   start_lng  145601 non-null  float64\n",
            " 2   start_lat  146001 non-null  float64\n",
            " 3   end_lng    146001 non-null  float64\n",
            " 4   end_lat    145401 non-null  float64\n",
            " 5   datetime   146001 non-null  object \n",
            " 6   duration   146001 non-null  float64\n",
            "dtypes: float64(5), int64(1), object(1)\n",
            "memory usage: 7.8+ MB\n"
          ]
        }
      ],
      "source": [
        "# Verificando os tipos de dados e se há valores nulos:\n",
        "train_df.info()"
      ]
    },
    {
      "cell_type": "code",
      "execution_count": null,
      "metadata": {
        "colab": {
          "base_uri": "https://localhost:8080/",
          "height": 303
        },
        "id": "HEV_4PCfedyS",
        "outputId": "886d1bbc-a836-42e0-db77-7fa146213a70"
      },
      "outputs": [
        {
          "data": {
            "text/html": [
              "<div>\n",
              "<style scoped>\n",
              "    .dataframe tbody tr th:only-of-type {\n",
              "        vertical-align: middle;\n",
              "    }\n",
              "\n",
              "    .dataframe tbody tr th {\n",
              "        vertical-align: top;\n",
              "    }\n",
              "\n",
              "    .dataframe thead th {\n",
              "        text-align: right;\n",
              "    }\n",
              "</style>\n",
              "<table border=\"1\" class=\"dataframe\">\n",
              "  <thead>\n",
              "    <tr style=\"text-align: right;\">\n",
              "      <th></th>\n",
              "      <th>0</th>\n",
              "    </tr>\n",
              "  </thead>\n",
              "  <tbody>\n",
              "    <tr>\n",
              "      <th>row_id</th>\n",
              "      <td>0</td>\n",
              "    </tr>\n",
              "    <tr>\n",
              "      <th>start_lng</th>\n",
              "      <td>400</td>\n",
              "    </tr>\n",
              "    <tr>\n",
              "      <th>start_lat</th>\n",
              "      <td>0</td>\n",
              "    </tr>\n",
              "    <tr>\n",
              "      <th>end_lng</th>\n",
              "      <td>0</td>\n",
              "    </tr>\n",
              "    <tr>\n",
              "      <th>end_lat</th>\n",
              "      <td>600</td>\n",
              "    </tr>\n",
              "    <tr>\n",
              "      <th>datetime</th>\n",
              "      <td>0</td>\n",
              "    </tr>\n",
              "    <tr>\n",
              "      <th>duration</th>\n",
              "      <td>0</td>\n",
              "    </tr>\n",
              "  </tbody>\n",
              "</table>\n",
              "</div><br><label><b>dtype:</b> int64</label>"
            ],
            "text/plain": [
              "row_id         0\n",
              "start_lng    400\n",
              "start_lat      0\n",
              "end_lng        0\n",
              "end_lat      600\n",
              "datetime       0\n",
              "duration       0\n",
              "dtype: int64"
            ]
          },
          "execution_count": 4,
          "metadata": {},
          "output_type": "execute_result"
        }
      ],
      "source": [
        "train_df.isnull().sum()"
      ]
    },
    {
      "cell_type": "markdown",
      "metadata": {
        "id": "KtuSPxRlf7WC"
      },
      "source": [
        "🚩 Considerando\n",
        "1. a natureza dos dados (que não admite uma imputação por média ou mediana se não faz sentido \"inventar\" uma trajetória), e que\n",
        "2. **400 nulos** em `start_lng` e **600 nulos** em `end_lat` representam juntos **menos de 0.7%** do conjunto disponível,\n",
        "\n",
        "a eliminação dos registros com valores nulos é a abordagem que não gerará ruídos e que será adotada no presente caso."
      ]
    },
    {
      "cell_type": "code",
      "execution_count": null,
      "metadata": {
        "colab": {
          "base_uri": "https://localhost:8080/",
          "height": 180
        },
        "id": "K8paGWey5mKC",
        "outputId": "8501b1cb-4c7a-408f-e187-36588675bb68"
      },
      "outputs": [
        {
          "data": {
            "image/png": "[encoded data removed]",
            "text/plain": [
              "<Figure size 2000x100 with 1 Axes>"
            ]
          },
          "metadata": {},
          "output_type": "display_data"
        }
      ],
      "source": [
        "# Explorando a distribuição da variável 'duration':\n",
        "import matplotlib.pyplot as plt\n",
        "import seaborn as sns\n",
        "\n",
        "plt.figure(figsize=(20, 1))\n",
        "sns.boxplot(x='duration', data=train_df)\n",
        "plt.title('Boxplot da variável Duration')\n",
        "plt.xlabel('Duração da viagem (s)')\n",
        "plt.grid(True)\n",
        "plt.show()"
      ]
    },
    {
      "cell_type": "code",
      "execution_count": null,
      "metadata": {
        "colab": {
          "base_uri": "https://localhost:8080/"
        },
        "id": "NTQo-rMG0U-5",
        "outputId": "0dba7fe6-81aa-47ba-93ee-3ff70c1db0c1"
      },
      "outputs": [
        {
          "name": "stdout",
          "output_type": "stream",
          "text": [
            "500\n"
          ]
        }
      ],
      "source": [
        "# Há viagens com duração == 0?!\n",
        "contagem = (train_df['duration'] == 0).sum()\n",
        "print(contagem)"
      ]
    },
    {
      "cell_type": "markdown",
      "metadata": {
        "id": "mx8cj_tp2Xyd"
      },
      "source": [
        "🚩 Uma viagem com deslocamento, mas duração == 0 também sugere algum ruído... Tais registros serão eliminados do conjunto. Além disso, tantos outliers nessa variável sugerem a necessidade de um tratamento apropriado."
      ]
    },
    {
      "cell_type": "code",
      "execution_count": null,
      "metadata": {
        "colab": {
          "base_uri": "https://localhost:8080/",
          "height": 180
        },
        "id": "Vsf93_qXWsUV",
        "outputId": "e6e48831-5a09-4a37-a857-bc1de4cf4b0c"
      },
      "outputs": [
        {
          "data": {
            "image/png": "[encoded data removed]",
            "text/plain": [
              "<Figure size 2000x100 with 1 Axes>"
            ]
          },
          "metadata": {},
          "output_type": "display_data"
        }
      ],
      "source": [
        "# Explorando a distribuição da variável 'start_lng':\n",
        "plt.figure(figsize=(20, 1))\n",
        "sns.boxplot(x='start_lng', data=train_df)\n",
        "plt.title('Boxplot da variável Start_Lng')\n",
        "plt.xlabel('Longitude inicial')\n",
        "plt.grid(True)\n",
        "plt.show()"
      ]
    },
    {
      "cell_type": "code",
      "execution_count": null,
      "metadata": {
        "colab": {
          "base_uri": "https://localhost:8080/"
        },
        "id": "04irtZUH_jHw",
        "outputId": "6046dedc-69ca-46fb-aed9-5979ff9d4a5d"
      },
      "outputs": [
        {
          "name": "stdout",
          "output_type": "stream",
          "text": [
            "1000\n"
          ]
        }
      ],
      "source": [
        "# Há viagens cuja longitude inicial é positiva, embora a final seja negativa?!\n",
        "contagem = (train_df['start_lng'] > 0).sum()\n",
        "print(contagem)"
      ]
    },
    {
      "cell_type": "markdown",
      "metadata": {
        "id": "SSMVeH9x-Fbu"
      },
      "source": [
        "🚩 Alguns registros apresentam valores inconsistentes na variável `start_lng`, com longitudes negativas, enquanto `end_lng` indica localizações positivas — o que implicaria deslocamentos de mais de 10.000 km realizados em poucos minutos. Por se tratarem de erros evidentes de geolocalização, esses registros também serão excluídos do conjunto."
      ]
    },
    {
      "cell_type": "markdown",
      "metadata": {
        "id": "yvXZZSLlXkWn"
      },
      "source": [
        "# **2. Data Preprocessing**"
      ]
    },
    {
      "cell_type": "code",
      "execution_count": null,
      "metadata": {
        "colab": {
          "base_uri": "https://localhost:8080/"
        },
        "id": "-ySO17Wei1lM",
        "outputId": "52f81930-3e31-46c2-d83c-4ae31c8fe1cd"
      },
      "outputs": [
        {
          "name": "stdout",
          "output_type": "stream",
          "text": [
            "Número de entradas após a remoção de nulos: 145001\n"
          ]
        }
      ],
      "source": [
        "# Eliminando os registros com valores nulos\n",
        "train_df.dropna(subset=['start_lng', 'end_lat'], inplace=True)\n",
        "\n",
        "print(f\"Número de entradas após a remoção de nulos: {len(train_df)}\")"
      ]
    },
    {
      "cell_type": "code",
      "execution_count": null,
      "metadata": {
        "colab": {
          "base_uri": "https://localhost:8080/"
        },
        "id": "rFZbWKIiAmZm",
        "outputId": "b77d17b4-3d7e-4b03-9ccd-9b9e8589dba8"
      },
      "outputs": [
        {
          "name": "stdout",
          "output_type": "stream",
          "text": [
            "Número de entradas após a remoção de longitudes positivas: 144001\n"
          ]
        }
      ],
      "source": [
        "# Eliminando os registros com longitude inicial > 0\n",
        "train_df = train_df[train_df['start_lng'] < 0]\n",
        "\n",
        "print(f\"Número de entradas após a remoção de longitudes positivas: {len(train_df)}\")"
      ]
    },
    {
      "cell_type": "code",
      "execution_count": null,
      "metadata": {
        "colab": {
          "base_uri": "https://localhost:8080/"
        },
        "id": "AJO1KHP_1Qjh",
        "outputId": "6d540ed8-e37d-487b-cbf4-315c935051cd"
      },
      "outputs": [
        {
          "name": "stdout",
          "output_type": "stream",
          "text": [
            "Número de entradas após a remoção de viagens sem duração: 143501\n"
          ]
        }
      ],
      "source": [
        "# Eliminando os registros com duração == 0\n",
        "train_df = train_df[train_df['duration'] > 0]\n",
        "\n",
        "print(f\"Número de entradas após a remoção de viagens sem duração: {len(train_df)}\")"
      ]
    },
    {
      "cell_type": "code",
      "execution_count": null,
      "metadata": {
        "colab": {
          "base_uri": "https://localhost:8080/"
        },
        "id": "TczEvCu8VjF_",
        "outputId": "787810a5-593c-4d3a-8491-020ea2342ede"
      },
      "outputs": [
        {
          "name": "stdout",
          "output_type": "stream",
          "text": [
            "Limite superior via IQR: 1971.0\n",
            "Limite inferior via IQR: -565.0\n",
            "Número de entradas após a remoção de outliers: 135587\n"
          ]
        }
      ],
      "source": [
        "# Tratando os outliers da variável Duration:\n",
        "Q1 = train_df['duration'].quantile(0.25)\n",
        "Q3 = train_df['duration'].quantile(0.75)\n",
        "IQR = Q3 - Q1\n",
        "\n",
        "limite_inferior = Q1 - 1.5 * IQR\n",
        "limite_superior = Q3 + 1.5 * IQR\n",
        "\n",
        "print(f\"Limite superior via IQR: {limite_superior}\")\n",
        "print(f\"Limite inferior via IQR: {limite_inferior}\")\n",
        "\n",
        "# Removendo os outliers\n",
        "train_df = train_df[(train_df['duration'] >= limite_inferior) & (train_df['duration'] <= limite_superior)]\n",
        "\n",
        "print(f\"Número de entradas após a remoção de outliers: {len(train_df)}\")"
      ]
    },
    {
      "cell_type": "code",
      "execution_count": null,
      "metadata": {
        "colab": {
          "base_uri": "https://localhost:8080/",
          "height": 180
        },
        "id": "mp5xYVi3V2ub",
        "outputId": "6e8f36c3-0c20-4a28-86c2-9b1b9629ee9b"
      },
      "outputs": [
        {
          "data": {
            "image/png": "[encoded data removed]",
            "text/plain": [
              "<Figure size 2000x100 with 1 Axes>"
            ]
          },
          "metadata": {},
          "output_type": "display_data"
        }
      ],
      "source": [
        "# Explorando a nova distribuição da variável 'duration':\n",
        "plt.figure(figsize=(20, 1))\n",
        "sns.boxplot(x='duration', data=train_df)\n",
        "plt.title('Novo boxplot da variável Duration')\n",
        "plt.xlabel('Duração da viagem (s)')\n",
        "plt.grid(True)\n",
        "plt.show()"
      ]
    },
    {
      "cell_type": "markdown",
      "metadata": {
        "id": "CMMXLKcLWlG9"
      },
      "source": [
        "### 🌏 **Features Geográficas:**\n",
        "\n",
        "* Distância entre origem e destino, através da biblioteca geopy.distance\n",
        "* Pontos médios das viagens (pode representar a região geral da viagem)\n",
        "* Velocidade média pode ser interessante? Avaliaremos."
      ]
    },
    {
      "cell_type": "code",
      "execution_count": null,
      "metadata": {
        "id": "BfHQUqHQYrIg"
      },
      "outputs": [],
      "source": [
        "# pip install geopy"
      ]
    },
    {
      "cell_type": "code",
      "execution_count": null,
      "metadata": {
        "id": "16pe-XhEY65P"
      },
      "outputs": [],
      "source": [
        "# DISTÂNCIA ENTRE ORIGEM E DESTINO:\n",
        "\n",
        "from geopy.distance import geodesic\n",
        "\n",
        "# Função para calcular a distância geodésica da viagem:\n",
        "def calculate_geopy_distance(row):\n",
        "    point1 = (row['start_lat'], row['start_lng'])\n",
        "    point2 = (row['end_lat'], row['end_lng'])\n",
        "    return geodesic(point1, point2).km\n",
        "\n",
        "# Aplicando ao DataFrame de treino e teste:\n",
        "train_df['geopy_distance_km'] = train_df.apply(calculate_geopy_distance, axis=1)\n",
        "test_df['geopy_distance_km'] = test_df.apply(calculate_geopy_distance, axis=1)"
      ]
    },
    {
      "cell_type": "code",
      "execution_count": null,
      "metadata": {
        "id": "SIeHsPoKa6GD"
      },
      "outputs": [],
      "source": [
        "# PONTO-MÉDIO DA VIAGEM:\n",
        "\n",
        "train_df['mid_lat'] = (train_df['start_lat'] + train_df['end_lat']) / 2\n",
        "train_df['mid_lng'] = (train_df['start_lng'] + train_df['end_lng']) / 2\n",
        "test_df['mid_lat'] = (test_df['start_lat'] + test_df['end_lat']) / 2\n",
        "test_df['mid_lng'] = (test_df['start_lng'] + test_df['end_lng']) / 2"
      ]
    },
    {
      "cell_type": "code",
      "execution_count": null,
      "metadata": {
        "colab": {
          "base_uri": "https://localhost:8080/",
          "height": 143
        },
        "id": "8RLBrZeOkcDI",
        "outputId": "6637ed10-d51f-465e-ca75-3cd46f613a05"
      },
      "outputs": [
        {
          "data": {
            "application/vnd.google.colaboratory.intrinsic+json": {
              "summary": "{\n  \"name\": \"#test_df\",\n  \"rows\": 3,\n  \"fields\": [\n    {\n      \"column\": \"row_id\",\n      \"properties\": {\n        \"dtype\": \"number\",\n        \"std\": 1,\n        \"min\": 0,\n        \"max\": 3,\n        \"num_unique_values\": 3,\n        \"samples\": [\n          0,\n          1,\n          3\n        ],\n        \"semantic_type\": \"\",\n        \"description\": \"\"\n      }\n    },\n    {\n      \"column\": \"start_lng\",\n      \"properties\": {\n        \"dtype\": \"number\",\n        \"std\": 28.075803618477043,\n        \"min\": -122.422385,\n        \"max\": -73.78327900000002,\n        \"num_unique_values\": 3,\n        \"samples\": [\n          -73.78327900000002,\n          -122.422385,\n          -122.401603\n        ],\n        \"semantic_type\": \"\",\n        \"description\": \"\"\n      }\n    },\n    {\n      \"column\": \"start_lat\",\n      \"properties\": {\n        \"dtype\": \"number\",\n        \"std\": 1.6486390076685453,\n        \"min\": 37.788975,\n        \"max\": 40.644718,\n        \"num_unique_values\": 3,\n        \"samples\": [\n          40.644718,\n          37.789408,\n          37.788975\n        ],\n        \"semantic_type\": \"\",\n        \"description\": \"\"\n      }\n    },\n    {\n      \"column\": \"end_lng\",\n      \"properties\": {\n        \"dtype\": \"number\",\n        \"std\": 27.97355909292495,\n        \"min\": -122.41989,\n        \"max\": -73.963799,\n        \"num_unique_values\": 3,\n        \"samples\": [\n          -73.963799,\n          -122.41989,\n          -122.410958\n        ],\n        \"semantic_type\": \"\",\n        \"description\": \"\"\n      }\n    },\n    {\n      \"column\": \"end_lat\",\n      \"properties\": {\n        \"dtype\": \"number\",\n        \"std\": 1.6742378347842337,\n        \"min\": 37.766692,\n        \"max\": 40.68132,\n        \"num_unique_values\": 3,\n        \"samples\": [\n          40.68132,\n          37.766692,\n          37.796447\n        ],\n        \"semantic_type\": \"\",\n        \"description\": \"\"\n      }\n    },\n    {\n      \"column\": \"datetime\",\n      \"properties\": {\n        \"dtype\": \"object\",\n        \"num_unique_values\": 3,\n        \"samples\": [\n          \"2015-01-09 00:51:48\",\n          \"2012-09-14 01:46:00\",\n          \"2012-09-03 23:48:00\"\n        ],\n        \"semantic_type\": \"\",\n        \"description\": \"\"\n      }\n    },\n    {\n      \"column\": \"duration\",\n      \"properties\": {\n        \"dtype\": \"number\",\n        \"std\": 857.8898530697282,\n        \"min\": 300.0,\n        \"max\": 1815.0,\n        \"num_unique_values\": 3,\n        \"samples\": [\n          1815.0,\n          300.0,\n          360.0\n        ],\n        \"semantic_type\": \"\",\n        \"description\": \"\"\n      }\n    },\n    {\n      \"column\": \"geopy_distance_km\",\n      \"properties\": {\n        \"dtype\": \"number\",\n        \"std\": 8.081072835735604,\n        \"min\": 1.1690774561714299,\n        \"max\": 15.79702633226968,\n        \"num_unique_values\": 3,\n        \"samples\": [\n          15.79702633226968,\n          2.530863364941293,\n          1.1690774561714299\n        ],\n        \"semantic_type\": \"\",\n        \"description\": \"\"\n      }\n    },\n    {\n      \"column\": \"mid_lat\",\n      \"properties\": {\n        \"dtype\": \"number\",\n        \"std\": 1.6614215344470327,\n        \"min\": 37.77805,\n        \"max\": 40.663019,\n        \"num_unique_values\": 3,\n        \"samples\": [\n          40.663019,\n          37.77805,\n          37.792711\n        ],\n        \"semantic_type\": \"\",\n        \"description\": \"\"\n      }\n    },\n    {\n      \"column\": \"mid_lng\",\n      \"properties\": {\n        \"dtype\": \"number\",\n        \"std\": 28.02468120054616,\n        \"min\": -122.4211375,\n        \"max\": -73.87353900000001,\n        \"num_unique_values\": 3,\n        \"samples\": [\n          -73.87353900000001,\n          -122.4211375,\n          -122.4062805\n        ],\n        \"semantic_type\": \"\",\n        \"description\": \"\"\n      }\n    }\n  ]\n}",
              "type": "dataframe"
            },
            "text/html": [
              "\n",
              "  <div id=\"df-0ce04430-f3fe-45c4-b5f1-795dd5bccf02\" class=\"colab-df-container\">\n",
              "    <div>\n",
              "<style scoped>\n",
              "    .dataframe tbody tr th:only-of-type {\n",
              "        vertical-align: middle;\n",
              "    }\n",
              "\n",
              "    .dataframe tbody tr th {\n",
              "        vertical-align: top;\n",
              "    }\n",
              "\n",
              "    .dataframe thead th {\n",
              "        text-align: right;\n",
              "    }\n",
              "</style>\n",
              "<table border=\"1\" class=\"dataframe\">\n",
              "  <thead>\n",
              "    <tr style=\"text-align: right;\">\n",
              "      <th></th>\n",
              "      <th>row_id</th>\n",
              "      <th>start_lng</th>\n",
              "      <th>start_lat</th>\n",
              "      <th>end_lng</th>\n",
              "      <th>end_lat</th>\n",
              "      <th>datetime</th>\n",
              "      <th>duration</th>\n",
              "      <th>geopy_distance_km</th>\n",
              "      <th>mid_lat</th>\n",
              "      <th>mid_lng</th>\n",
              "    </tr>\n",
              "  </thead>\n",
              "  <tbody>\n",
              "    <tr>\n",
              "      <th>0</th>\n",
              "      <td>0</td>\n",
              "      <td>-73.783279</td>\n",
              "      <td>40.644718</td>\n",
              "      <td>-73.963799</td>\n",
              "      <td>40.681320</td>\n",
              "      <td>2015-01-09 00:51:48</td>\n",
              "      <td>1815.0</td>\n",
              "      <td>15.797026</td>\n",
              "      <td>40.663019</td>\n",
              "      <td>-73.873539</td>\n",
              "    </tr>\n",
              "    <tr>\n",
              "      <th>1</th>\n",
              "      <td>1</td>\n",
              "      <td>-122.422385</td>\n",
              "      <td>37.789408</td>\n",
              "      <td>-122.419890</td>\n",
              "      <td>37.766692</td>\n",
              "      <td>2012-09-14 01:46:00</td>\n",
              "      <td>300.0</td>\n",
              "      <td>2.530863</td>\n",
              "      <td>37.778050</td>\n",
              "      <td>-122.421138</td>\n",
              "    </tr>\n",
              "    <tr>\n",
              "      <th>3</th>\n",
              "      <td>3</td>\n",
              "      <td>-122.401603</td>\n",
              "      <td>37.788975</td>\n",
              "      <td>-122.410958</td>\n",
              "      <td>37.796447</td>\n",
              "      <td>2012-09-03 23:48:00</td>\n",
              "      <td>360.0</td>\n",
              "      <td>1.169077</td>\n",
              "      <td>37.792711</td>\n",
              "      <td>-122.406280</td>\n",
              "    </tr>\n",
              "  </tbody>\n",
              "</table>\n",
              "</div>\n",
              "    <div class=\"colab-df-buttons\">\n",
              "\n",
              "  <div class=\"colab-df-container\">\n",
              "    <button class=\"colab-df-convert\" onclick=\"convertToInteractive('df-0ce04430-f3fe-45c4-b5f1-795dd5bccf02')\"\n",
              "            title=\"Convert this dataframe to an interactive table.\"\n",
              "            style=\"display:none;\">\n",
              "\n",
              "  <svg xmlns=\"http://www.w3.org/2000/svg\" height=\"24px\" viewBox=\"0 -960 960 960\">\n",
              "    <path d=\"M120-120v-720h720v720H120Zm60-500h600v-160H180v160Zm220 220h160v-160H400v160Zm0 220h160v-160H400v160ZM180-400h160v-160H180v160Zm440 0h160v-160H620v160ZM180-180h160v-160H180v160Zm440 0h160v-160H620v160Z\"/>\n",
              "  </svg>\n",
              "    </button>\n",
              "\n",
              "  <style>\n",
              "    .colab-df-container {\n",
              "      display:flex;\n",
              "      gap: 12px;\n",
              "    }\n",
              "\n",
              "    .colab-df-convert {\n",
              "      background-color: #E8F0FE;\n",
              "      border: none;\n",
              "      border-radius: 50%;\n",
              "      cursor: pointer;\n",
              "      display: none;\n",
              "      fill: #1967D2;\n",
              "      height: 32px;\n",
              "      padding: 0 0 0 0;\n",
              "      width: 32px;\n",
              "    }\n",
              "\n",
              "    .colab-df-convert:hover {\n",
              "      background-color: #E2EBFA;\n",
              "      box-shadow: 0px 1px 2px rgba(60, 64, 67, 0.3), 0px 1px 3px 1px rgba(60, 64, 67, 0.15);\n",
              "      fill: #174EA6;\n",
              "    }\n",
              "\n",
              "    .colab-df-buttons div {\n",
              "      margin-bottom: 4px;\n",
              "    }\n",
              "\n",
              "    [theme=dark] .colab-df-convert {\n",
              "      background-color: #3B4455;\n",
              "      fill: #D2E3FC;\n",
              "    }\n",
              "\n",
              "    [theme=dark] .colab-df-convert:hover {\n",
              "      background-color: #434B5C;\n",
              "      box-shadow: 0px 1px 3px 1px rgba(0, 0, 0, 0.15);\n",
              "      filter: drop-shadow(0px 1px 2px rgba(0, 0, 0, 0.3));\n",
              "      fill: #FFFFFF;\n",
              "    }\n",
              "  </style>\n",
              "\n",
              "    <script>\n",
              "      const buttonEl =\n",
              "        document.querySelector('#df-0ce04430-f3fe-45c4-b5f1-795dd5bccf02 button.colab-df-convert');\n",
              "      buttonEl.style.display =\n",
              "        google.colab.kernel.accessAllowed ? 'block' : 'none';\n",
              "\n",
              "      async function convertToInteractive(key) {\n",
              "        const element = document.querySelector('#df-0ce04430-f3fe-45c4-b5f1-795dd5bccf02');\n",
              "        const dataTable =\n",
              "          await google.colab.kernel.invokeFunction('convertToInteractive',\n",
              "                                                    [key], {});\n",
              "        if (!dataTable) return;\n",
              "\n",
              "        const docLinkHtml = 'Like what you see? Visit the ' +\n",
              "          '<a target=\"_blank\" href=https://colab.research.google.com/notebooks/data_table.ipynb>data table notebook</a>'\n",
              "          + ' to learn more about interactive tables.';\n",
              "        element.innerHTML = '';\n",
              "        dataTable['output_type'] = 'display_data';\n",
              "        await google.colab.output.renderOutput(dataTable, element);\n",
              "        const docLink = document.createElement('div');\n",
              "        docLink.innerHTML = docLinkHtml;\n",
              "        element.appendChild(docLink);\n",
              "      }\n",
              "    </script>\n",
              "  </div>\n",
              "\n",
              "\n",
              "    <div id=\"df-6f29ba54-9d92-40b9-9796-3ca61c0521bb\">\n",
              "      <button class=\"colab-df-quickchart\" onclick=\"quickchart('df-6f29ba54-9d92-40b9-9796-3ca61c0521bb')\"\n",
              "                title=\"Suggest charts\"\n",
              "                style=\"display:none;\">\n",
              "\n",
              "<svg xmlns=\"http://www.w3.org/2000/svg\" height=\"24px\"viewBox=\"0 0 24 24\"\n",
              "     width=\"24px\">\n",
              "    <g>\n",
              "        <path d=\"M19 3H5c-1.1 0-2 .9-2 2v14c0 1.1.9 2 2 2h14c1.1 0 2-.9 2-2V5c0-1.1-.9-2-2-2zM9 17H7v-7h2v7zm4 0h-2V7h2v10zm4 0h-2v-4h2v4z\"/>\n",
              "    </g>\n",
              "</svg>\n",
              "      </button>\n",
              "\n",
              "<style>\n",
              "  .colab-df-quickchart {\n",
              "      --bg-color: #E8F0FE;\n",
              "      --fill-color: #1967D2;\n",
              "      --hover-bg-color: #E2EBFA;\n",
              "      --hover-fill-color: #174EA6;\n",
              "      --disabled-fill-color: #AAA;\n",
              "      --disabled-bg-color: #DDD;\n",
              "  }\n",
              "\n",
              "  [theme=dark] .colab-df-quickchart {\n",
              "      --bg-color: #3B4455;\n",
              "      --fill-color: #D2E3FC;\n",
              "      --hover-bg-color: #434B5C;\n",
              "      --hover-fill-color: #FFFFFF;\n",
              "      --disabled-bg-color: #3B4455;\n",
              "      --disabled-fill-color: #666;\n",
              "  }\n",
              "\n",
              "  .colab-df-quickchart {\n",
              "    background-color: var(--bg-color);\n",
              "    border: none;\n",
              "    border-radius: 50%;\n",
              "    cursor: pointer;\n",
              "    display: none;\n",
              "    fill: var(--fill-color);\n",
              "    height: 32px;\n",
              "    padding: 0;\n",
              "    width: 32px;\n",
              "  }\n",
              "\n",
              "  .colab-df-quickchart:hover {\n",
              "    background-color: var(--hover-bg-color);\n",
              "    box-shadow: 0 1px 2px rgba(60, 64, 67, 0.3), 0 1px 3px 1px rgba(60, 64, 67, 0.15);\n",
              "    fill: var(--button-hover-fill-color);\n",
              "  }\n",
              "\n",
              "  .colab-df-quickchart-complete:disabled,\n",
              "  .colab-df-quickchart-complete:disabled:hover {\n",
              "    background-color: var(--disabled-bg-color);\n",
              "    fill: var(--disabled-fill-color);\n",
              "    box-shadow: none;\n",
              "  }\n",
              "\n",
              "  .colab-df-spinner {\n",
              "    border: 2px solid var(--fill-color);\n",
              "    border-color: transparent;\n",
              "    border-bottom-color: var(--fill-color);\n",
              "    animation:\n",
              "      spin 1s steps(1) infinite;\n",
              "  }\n",
              "\n",
              "  @keyframes spin {\n",
              "    0% {\n",
              "      border-color: transparent;\n",
              "      border-bottom-color: var(--fill-color);\n",
              "      border-left-color: var(--fill-color);\n",
              "    }\n",
              "    20% {\n",
              "      border-color: transparent;\n",
              "      border-left-color: var(--fill-color);\n",
              "      border-top-color: var(--fill-color);\n",
              "    }\n",
              "    30% {\n",
              "      border-color: transparent;\n",
              "      border-left-color: var(--fill-color);\n",
              "      border-top-color: var(--fill-color);\n",
              "      border-right-color: var(--fill-color);\n",
              "    }\n",
              "    40% {\n",
              "      border-color: transparent;\n",
              "      border-right-color: var(--fill-color);\n",
              "      border-top-color: var(--fill-color);\n",
              "    }\n",
              "    60% {\n",
              "      border-color: transparent;\n",
              "      border-right-color: var(--fill-color);\n",
              "    }\n",
              "    80% {\n",
              "      border-color: transparent;\n",
              "      border-right-color: var(--fill-color);\n",
              "      border-bottom-color: var(--fill-color);\n",
              "    }\n",
              "    90% {\n",
              "      border-color: transparent;\n",
              "      border-bottom-color: var(--fill-color);\n",
              "    }\n",
              "  }\n",
              "</style>\n",
              "\n",
              "      <script>\n",
              "        async function quickchart(key) {\n",
              "          const quickchartButtonEl =\n",
              "            document.querySelector('#' + key + ' button');\n",
              "          quickchartButtonEl.disabled = true;  // To prevent multiple clicks.\n",
              "          quickchartButtonEl.classList.add('colab-df-spinner');\n",
              "          try {\n",
              "            const charts = await google.colab.kernel.invokeFunction(\n",
              "                'suggestCharts', [key], {});\n",
              "          } catch (error) {\n",
              "            console.error('Error during call to suggestCharts:', error);\n",
              "          }\n",
              "          quickchartButtonEl.classList.remove('colab-df-spinner');\n",
              "          quickchartButtonEl.classList.add('colab-df-quickchart-complete');\n",
              "        }\n",
              "        (() => {\n",
              "          let quickchartButtonEl =\n",
              "            document.querySelector('#df-6f29ba54-9d92-40b9-9796-3ca61c0521bb button');\n",
              "          quickchartButtonEl.style.display =\n",
              "            google.colab.kernel.accessAllowed ? 'block' : 'none';\n",
              "        })();\n",
              "      </script>\n",
              "    </div>\n",
              "\n",
              "    </div>\n",
              "  </div>\n"
            ],
            "text/plain": [
              "   row_id   start_lng  start_lat     end_lng    end_lat             datetime  \\\n",
              "0       0  -73.783279  40.644718  -73.963799  40.681320  2015-01-09 00:51:48   \n",
              "1       1 -122.422385  37.789408 -122.419890  37.766692  2012-09-14 01:46:00   \n",
              "3       3 -122.401603  37.788975 -122.410958  37.796447  2012-09-03 23:48:00   \n",
              "\n",
              "   duration  geopy_distance_km    mid_lat     mid_lng  \n",
              "0    1815.0          15.797026  40.663019  -73.873539  \n",
              "1     300.0           2.530863  37.778050 -122.421138  \n",
              "3     360.0           1.169077  37.792711 -122.406280  "
            ]
          },
          "execution_count": 17,
          "metadata": {},
          "output_type": "execute_result"
        }
      ],
      "source": [
        "# Verificando as inclusões:\n",
        "train_df.head(3)\n",
        "#test_df.head(3)"
      ]
    },
    {
      "cell_type": "code",
      "execution_count": null,
      "metadata": {
        "colab": {
          "base_uri": "https://localhost:8080/",
          "height": 180
        },
        "id": "hMX1gVOL4MC7",
        "outputId": "a03236c3-19bf-46c4-e542-4389dd337425"
      },
      "outputs": [
        {
          "data": {
            "image/png": "[encoded data removed]",
            "text/plain": [
              "<Figure size 2000x100 with 1 Axes>"
            ]
          },
          "metadata": {},
          "output_type": "display_data"
        }
      ],
      "source": [
        "# Explorando a distribuição da variável 'geopy_distance_km':\n",
        "plt.figure(figsize=(20, 1))\n",
        "sns.boxplot(x='geopy_distance_km', data=train_df)\n",
        "plt.title('Boxplot da variável Geopy_Distance_Km')\n",
        "plt.xlabel('Distância (Km)')\n",
        "plt.grid(True)\n",
        "plt.show()"
      ]
    },
    {
      "cell_type": "code",
      "execution_count": null,
      "metadata": {
        "colab": {
          "base_uri": "https://localhost:8080/"
        },
        "id": "0mja-UvR7zho",
        "outputId": "f5d02aa2-0e16-45c9-d552-f41df454a9a8"
      },
      "outputs": [
        {
          "name": "stdout",
          "output_type": "stream",
          "text": [
            "484\n"
          ]
        }
      ],
      "source": [
        "# Há viagens com deslocamento == 0?!\n",
        "cont = (train_df['geopy_distance_km'] == 0).sum()\n",
        "print(cont)"
      ]
    },
    {
      "cell_type": "code",
      "execution_count": null,
      "metadata": {
        "colab": {
          "base_uri": "https://localhost:8080/"
        },
        "id": "aosbHiZiPJVD",
        "outputId": "14511b79-c66e-4f87-c0fa-4109ceb99fde"
      },
      "outputs": [
        {
          "name": "stdout",
          "output_type": "stream",
          "text": [
            "2335\n"
          ]
        }
      ],
      "source": [
        "# Há muitos outliers \"absurdos\"?\n",
        "cont = (train_df['geopy_distance_km'] > 1800).sum()\n",
        "print(cont)"
      ]
    },
    {
      "cell_type": "markdown",
      "metadata": {
        "id": "JDPvUT2MCpWB"
      },
      "source": [
        "🚩 Nova necessidade de limpeza identificada: a variável calculada `geopy_distance_km` apresentou alguns valores iguais ou muito próximos de 0, sugerindo que viagens quase sem deslocamento (talvez canceladas no momento ou logo depois do embarque) estão sendo consideradas no conjunto. Outros registros com distâncias muito grandes, maiores que 1800 km, também indicam erros, já que a duração é muito curta, incompatível com o trajeto. Tais registros também serão eliminados."
      ]
    },
    {
      "cell_type": "code",
      "execution_count": null,
      "metadata": {
        "colab": {
          "base_uri": "https://localhost:8080/"
        },
        "id": "pmJA2gF0CmBN",
        "outputId": "48e3a1d6-eb07-4849-9d69-fbb7e5f933fc"
      },
      "outputs": [
        {
          "name": "stdout",
          "output_type": "stream",
          "text": [
            "Número de entradas após a remoção de outliers e de viagens com baixo deslocamento: 132258\n"
          ]
        }
      ],
      "source": [
        "# Eliminando os registros com distância próxima de 0 (até 0.1 km) ou maior que 1800 km:\n",
        "train_df = train_df[train_df['geopy_distance_km'] > 0.10]\n",
        "train_df = train_df[train_df['geopy_distance_km'] < 1000]\n",
        "\n",
        "print(f\"Número de entradas após a remoção de outliers e de viagens com baixo deslocamento: {len(train_df)}\")"
      ]
    },
    {
      "cell_type": "code",
      "execution_count": null,
      "metadata": {
        "colab": {
          "base_uri": "https://localhost:8080/",
          "height": 180
        },
        "id": "6K943pNGSDlX",
        "outputId": "133c0802-12b3-4df2-c9ee-1086f3ca8a83"
      },
      "outputs": [
        {
          "data": {
            "image/png": "[encoded data removed]",
            "text/plain": [
              "<Figure size 2000x100 with 1 Axes>"
            ]
          },
          "metadata": {},
          "output_type": "display_data"
        }
      ],
      "source": [
        "# Explorando a nova distribuição da variável 'geopy_distance_km':\n",
        "plt.figure(figsize=(20, 1))\n",
        "sns.boxplot(x='geopy_distance_km', data=train_df)\n",
        "plt.title('Novo boxplot da variável Geopy_Distance_Km')\n",
        "plt.xlabel('Distância (Km)')\n",
        "plt.grid(True)\n",
        "plt.show()"
      ]
    },
    {
      "cell_type": "markdown",
      "metadata": {
        "id": "rzKj89Gs-dyZ"
      },
      "source": [
        "🚩 Para refinar ainda mais a limpeza (já que uma vista superficial nos dados restantes ainda sugeriu algumas incongruências), será calculada a velocidade média como forma de identificar e eliminar esses registros anômalos.\n",
        "\n",
        "🚩 Nota: talvez pudéssemos ter vindo direto para essa etapa, ao invés de tratar a distância e a duração individualmente, mas, a título didático (e porque as referidas etapas já estão prontas), o processo será mantido assim."
      ]
    },
    {
      "cell_type": "code",
      "execution_count": null,
      "metadata": {
        "colab": {
          "base_uri": "https://localhost:8080/",
          "height": 143
        },
        "id": "YQjFB5k_-bSt",
        "outputId": "25cf8418-9b97-42e5-ce5f-9c3984a46f7a"
      },
      "outputs": [
        {
          "data": {
            "application/vnd.google.colaboratory.intrinsic+json": {
              "type": "dataframe",
              "variable_name": "train_df"
            },
            "text/html": [
              "\n",
              "  <div id=\"df-6c81977c-78b1-4312-ae6f-b430a8be5519\" class=\"colab-df-container\">\n",
              "    <div>\n",
              "<style scoped>\n",
              "    .dataframe tbody tr th:only-of-type {\n",
              "        vertical-align: middle;\n",
              "    }\n",
              "\n",
              "    .dataframe tbody tr th {\n",
              "        vertical-align: top;\n",
              "    }\n",
              "\n",
              "    .dataframe thead th {\n",
              "        text-align: right;\n",
              "    }\n",
              "</style>\n",
              "<table border=\"1\" class=\"dataframe\">\n",
              "  <thead>\n",
              "    <tr style=\"text-align: right;\">\n",
              "      <th></th>\n",
              "      <th>row_id</th>\n",
              "      <th>start_lng</th>\n",
              "      <th>start_lat</th>\n",
              "      <th>end_lng</th>\n",
              "      <th>end_lat</th>\n",
              "      <th>datetime</th>\n",
              "      <th>duration</th>\n",
              "      <th>geopy_distance_km</th>\n",
              "      <th>mid_lat</th>\n",
              "      <th>mid_lng</th>\n",
              "      <th>speed_kmh</th>\n",
              "    </tr>\n",
              "  </thead>\n",
              "  <tbody>\n",
              "    <tr>\n",
              "      <th>0</th>\n",
              "      <td>0</td>\n",
              "      <td>-73.783279</td>\n",
              "      <td>40.644718</td>\n",
              "      <td>-73.963799</td>\n",
              "      <td>40.681320</td>\n",
              "      <td>2015-01-09 00:51:48</td>\n",
              "      <td>1815.0</td>\n",
              "      <td>15.797026</td>\n",
              "      <td>40.663019</td>\n",
              "      <td>-73.873539</td>\n",
              "      <td>31.332945</td>\n",
              "    </tr>\n",
              "    <tr>\n",
              "      <th>1</th>\n",
              "      <td>1</td>\n",
              "      <td>-122.422385</td>\n",
              "      <td>37.789408</td>\n",
              "      <td>-122.419890</td>\n",
              "      <td>37.766692</td>\n",
              "      <td>2012-09-14 01:46:00</td>\n",
              "      <td>300.0</td>\n",
              "      <td>2.530863</td>\n",
              "      <td>37.778050</td>\n",
              "      <td>-122.421138</td>\n",
              "      <td>30.370360</td>\n",
              "    </tr>\n",
              "    <tr>\n",
              "      <th>3</th>\n",
              "      <td>3</td>\n",
              "      <td>-122.401603</td>\n",
              "      <td>37.788975</td>\n",
              "      <td>-122.410958</td>\n",
              "      <td>37.796447</td>\n",
              "      <td>2012-09-03 23:48:00</td>\n",
              "      <td>360.0</td>\n",
              "      <td>1.169077</td>\n",
              "      <td>37.792711</td>\n",
              "      <td>-122.406280</td>\n",
              "      <td>11.690775</td>\n",
              "    </tr>\n",
              "  </tbody>\n",
              "</table>\n",
              "</div>\n",
              "    <div class=\"colab-df-buttons\">\n",
              "\n",
              "  <div class=\"colab-df-container\">\n",
              "    <button class=\"colab-df-convert\" onclick=\"convertToInteractive('df-6c81977c-78b1-4312-ae6f-b430a8be5519')\"\n",
              "            title=\"Convert this dataframe to an interactive table.\"\n",
              "            style=\"display:none;\">\n",
              "\n",
              "  <svg xmlns=\"http://www.w3.org/2000/svg\" height=\"24px\" viewBox=\"0 -960 960 960\">\n",
              "    <path d=\"M120-120v-720h720v720H120Zm60-500h600v-160H180v160Zm220 220h160v-160H400v160Zm0 220h160v-160H400v160ZM180-400h160v-160H180v160Zm440 0h160v-160H620v160ZM180-180h160v-160H180v160Zm440 0h160v-160H620v160Z\"/>\n",
              "  </svg>\n",
              "    </button>\n",
              "\n",
              "  <style>\n",
              "    .colab-df-container {\n",
              "      display:flex;\n",
              "      gap: 12px;\n",
              "    }\n",
              "\n",
              "    .colab-df-convert {\n",
              "      background-color: #E8F0FE;\n",
              "      border: none;\n",
              "      border-radius: 50%;\n",
              "      cursor: pointer;\n",
              "      display: none;\n",
              "      fill: #1967D2;\n",
              "      height: 32px;\n",
              "      padding: 0 0 0 0;\n",
              "      width: 32px;\n",
              "    }\n",
              "\n",
              "    .colab-df-convert:hover {\n",
              "      background-color: #E2EBFA;\n",
              "      box-shadow: 0px 1px 2px rgba(60, 64, 67, 0.3), 0px 1px 3px 1px rgba(60, 64, 67, 0.15);\n",
              "      fill: #174EA6;\n",
              "    }\n",
              "\n",
              "    .colab-df-buttons div {\n",
              "      margin-bottom: 4px;\n",
              "    }\n",
              "\n",
              "    [theme=dark] .colab-df-convert {\n",
              "      background-color: #3B4455;\n",
              "      fill: #D2E3FC;\n",
              "    }\n",
              "\n",
              "    [theme=dark] .colab-df-convert:hover {\n",
              "      background-color: #434B5C;\n",
              "      box-shadow: 0px 1px 3px 1px rgba(0, 0, 0, 0.15);\n",
              "      filter: drop-shadow(0px 1px 2px rgba(0, 0, 0, 0.3));\n",
              "      fill: #FFFFFF;\n",
              "    }\n",
              "  </style>\n",
              "\n",
              "    <script>\n",
              "      const buttonEl =\n",
              "        document.querySelector('#df-6c81977c-78b1-4312-ae6f-b430a8be5519 button.colab-df-convert');\n",
              "      buttonEl.style.display =\n",
              "        google.colab.kernel.accessAllowed ? 'block' : 'none';\n",
              "\n",
              "      async function convertToInteractive(key) {\n",
              "        const element = document.querySelector('#df-6c81977c-78b1-4312-ae6f-b430a8be5519');\n",
              "        const dataTable =\n",
              "          await google.colab.kernel.invokeFunction('convertToInteractive',\n",
              "                                                    [key], {});\n",
              "        if (!dataTable) return;\n",
              "\n",
              "        const docLinkHtml = 'Like what you see? Visit the ' +\n",
              "          '<a target=\"_blank\" href=https://colab.research.google.com/notebooks/data_table.ipynb>data table notebook</a>'\n",
              "          + ' to learn more about interactive tables.';\n",
              "        element.innerHTML = '';\n",
              "        dataTable['output_type'] = 'display_data';\n",
              "        await google.colab.output.renderOutput(dataTable, element);\n",
              "        const docLink = document.createElement('div');\n",
              "        docLink.innerHTML = docLinkHtml;\n",
              "        element.appendChild(docLink);\n",
              "      }\n",
              "    </script>\n",
              "  </div>\n",
              "\n",
              "\n",
              "    <div id=\"df-c97a06f2-505a-4a14-ac70-cdb8f09a2a34\">\n",
              "      <button class=\"colab-df-quickchart\" onclick=\"quickchart('df-c97a06f2-505a-4a14-ac70-cdb8f09a2a34')\"\n",
              "                title=\"Suggest charts\"\n",
              "                style=\"display:none;\">\n",
              "\n",
              "<svg xmlns=\"http://www.w3.org/2000/svg\" height=\"24px\"viewBox=\"0 0 24 24\"\n",
              "     width=\"24px\">\n",
              "    <g>\n",
              "        <path d=\"M19 3H5c-1.1 0-2 .9-2 2v14c0 1.1.9 2 2 2h14c1.1 0 2-.9 2-2V5c0-1.1-.9-2-2-2zM9 17H7v-7h2v7zm4 0h-2V7h2v10zm4 0h-2v-4h2v4z\"/>\n",
              "    </g>\n",
              "</svg>\n",
              "      </button>\n",
              "\n",
              "<style>\n",
              "  .colab-df-quickchart {\n",
              "      --bg-color: #E8F0FE;\n",
              "      --fill-color: #1967D2;\n",
              "      --hover-bg-color: #E2EBFA;\n",
              "      --hover-fill-color: #174EA6;\n",
              "      --disabled-fill-color: #AAA;\n",
              "      --disabled-bg-color: #DDD;\n",
              "  }\n",
              "\n",
              "  [theme=dark] .colab-df-quickchart {\n",
              "      --bg-color: #3B4455;\n",
              "      --fill-color: #D2E3FC;\n",
              "      --hover-bg-color: #434B5C;\n",
              "      --hover-fill-color: #FFFFFF;\n",
              "      --disabled-bg-color: #3B4455;\n",
              "      --disabled-fill-color: #666;\n",
              "  }\n",
              "\n",
              "  .colab-df-quickchart {\n",
              "    background-color: var(--bg-color);\n",
              "    border: none;\n",
              "    border-radius: 50%;\n",
              "    cursor: pointer;\n",
              "    display: none;\n",
              "    fill: var(--fill-color);\n",
              "    height: 32px;\n",
              "    padding: 0;\n",
              "    width: 32px;\n",
              "  }\n",
              "\n",
              "  .colab-df-quickchart:hover {\n",
              "    background-color: var(--hover-bg-color);\n",
              "    box-shadow: 0 1px 2px rgba(60, 64, 67, 0.3), 0 1px 3px 1px rgba(60, 64, 67, 0.15);\n",
              "    fill: var(--button-hover-fill-color);\n",
              "  }\n",
              "\n",
              "  .colab-df-quickchart-complete:disabled,\n",
              "  .colab-df-quickchart-complete:disabled:hover {\n",
              "    background-color: var(--disabled-bg-color);\n",
              "    fill: var(--disabled-fill-color);\n",
              "    box-shadow: none;\n",
              "  }\n",
              "\n",
              "  .colab-df-spinner {\n",
              "    border: 2px solid var(--fill-color);\n",
              "    border-color: transparent;\n",
              "    border-bottom-color: var(--fill-color);\n",
              "    animation:\n",
              "      spin 1s steps(1) infinite;\n",
              "  }\n",
              "\n",
              "  @keyframes spin {\n",
              "    0% {\n",
              "      border-color: transparent;\n",
              "      border-bottom-color: var(--fill-color);\n",
              "      border-left-color: var(--fill-color);\n",
              "    }\n",
              "    20% {\n",
              "      border-color: transparent;\n",
              "      border-left-color: var(--fill-color);\n",
              "      border-top-color: var(--fill-color);\n",
              "    }\n",
              "    30% {\n",
              "      border-color: transparent;\n",
              "      border-left-color: var(--fill-color);\n",
              "      border-top-color: var(--fill-color);\n",
              "      border-right-color: var(--fill-color);\n",
              "    }\n",
              "    40% {\n",
              "      border-color: transparent;\n",
              "      border-right-color: var(--fill-color);\n",
              "      border-top-color: var(--fill-color);\n",
              "    }\n",
              "    60% {\n",
              "      border-color: transparent;\n",
              "      border-right-color: var(--fill-color);\n",
              "    }\n",
              "    80% {\n",
              "      border-color: transparent;\n",
              "      border-right-color: var(--fill-color);\n",
              "      border-bottom-color: var(--fill-color);\n",
              "    }\n",
              "    90% {\n",
              "      border-color: transparent;\n",
              "      border-bottom-color: var(--fill-color);\n",
              "    }\n",
              "  }\n",
              "</style>\n",
              "\n",
              "      <script>\n",
              "        async function quickchart(key) {\n",
              "          const quickchartButtonEl =\n",
              "            document.querySelector('#' + key + ' button');\n",
              "          quickchartButtonEl.disabled = true;  // To prevent multiple clicks.\n",
              "          quickchartButtonEl.classList.add('colab-df-spinner');\n",
              "          try {\n",
              "            const charts = await google.colab.kernel.invokeFunction(\n",
              "                'suggestCharts', [key], {});\n",
              "          } catch (error) {\n",
              "            console.error('Error during call to suggestCharts:', error);\n",
              "          }\n",
              "          quickchartButtonEl.classList.remove('colab-df-spinner');\n",
              "          quickchartButtonEl.classList.add('colab-df-quickchart-complete');\n",
              "        }\n",
              "        (() => {\n",
              "          let quickchartButtonEl =\n",
              "            document.querySelector('#df-c97a06f2-505a-4a14-ac70-cdb8f09a2a34 button');\n",
              "          quickchartButtonEl.style.display =\n",
              "            google.colab.kernel.accessAllowed ? 'block' : 'none';\n",
              "        })();\n",
              "      </script>\n",
              "    </div>\n",
              "\n",
              "    </div>\n",
              "  </div>\n"
            ],
            "text/plain": [
              "   row_id   start_lng  start_lat     end_lng    end_lat             datetime  \\\n",
              "0       0  -73.783279  40.644718  -73.963799  40.681320  2015-01-09 00:51:48   \n",
              "1       1 -122.422385  37.789408 -122.419890  37.766692  2012-09-14 01:46:00   \n",
              "3       3 -122.401603  37.788975 -122.410958  37.796447  2012-09-03 23:48:00   \n",
              "\n",
              "   duration  geopy_distance_km    mid_lat     mid_lng  speed_kmh  \n",
              "0    1815.0          15.797026  40.663019  -73.873539  31.332945  \n",
              "1     300.0           2.530863  37.778050 -122.421138  30.370360  \n",
              "3     360.0           1.169077  37.792711 -122.406280  11.690775  "
            ]
          },
          "execution_count": 23,
          "metadata": {},
          "output_type": "execute_result"
        }
      ],
      "source": [
        "# Calculando a velocidade média em km/h:\n",
        "train_df['speed_kmh'] = train_df['geopy_distance_km'] / (train_df['duration'] / 3600)\n",
        "train_df.head(3)"
      ]
    },
    {
      "cell_type": "code",
      "execution_count": null,
      "metadata": {
        "colab": {
          "base_uri": "https://localhost:8080/",
          "height": 180
        },
        "id": "J9GyLJHnAHBp",
        "outputId": "4921d308-957e-40ad-9e76-4bcefb83c0a4"
      },
      "outputs": [
        {
          "data": {
            "image/png": "[encoded data removed]",
            "text/plain": [
              "<Figure size 2000x100 with 1 Axes>"
            ]
          },
          "metadata": {},
          "output_type": "display_data"
        }
      ],
      "source": [
        "# Explorando a distribuição da variável 'speed_kmh':\n",
        "plt.figure(figsize=(20, 1))\n",
        "sns.boxplot(x='speed_kmh', data=train_df)\n",
        "plt.title('Boxplot da variável Speed_Kmh')\n",
        "plt.xlabel('Velocidade (Km/h)')\n",
        "plt.grid(True)\n",
        "plt.show()"
      ]
    },
    {
      "cell_type": "markdown",
      "metadata": {
        "id": "KAlwIXOkh2YA"
      },
      "source": [
        "🚩 Nota: pelo método dos quartis, velocidades superiores a 34 km/h já seriam consideradas outliers. Por isso, com base na lógica e com a ajuda do boxplot, defini o limite superior de 100 km/h e o limite inferior de 5 km/h (já que valores muito baixos também indicam casos excepcionais, como, por exemplo, paradas muito longas) para tratamento dos outliers."
      ]
    },
    {
      "cell_type": "code",
      "execution_count": null,
      "metadata": {
        "colab": {
          "base_uri": "https://localhost:8080/"
        },
        "id": "AIFcTYkJA89h",
        "outputId": "893b8066-35c8-416d-eb95-7f618aea5dcc"
      },
      "outputs": [
        {
          "name": "stdout",
          "output_type": "stream",
          "text": [
            "Número de entradas após a remoção de outliers: 128004\n"
          ]
        }
      ],
      "source": [
        "# Eliminando os registros com velocidade menor que 5 km/h ou maior que 100 km/h:\n",
        "train_df = train_df[(train_df['speed_kmh'] > 5) & (train_df['speed_kmh'] < 100)]\n",
        "\n",
        "print(f\"Número de entradas após a remoção de outliers: {len(train_df)}\")"
      ]
    },
    {
      "cell_type": "markdown",
      "metadata": {
        "id": "s3LPejQ2UrLn"
      },
      "source": [
        "### 🕙 **Features Temporais:**\n",
        "\n",
        "* A hora do dia ou o dia da semana impactam o tráfego?\n",
        "* Meses tipicamente \"de férias\" mostram variações significativas?\n",
        "* Os dados abrangem vários anos a fim de se identificar tendências? (...não)"
      ]
    },
    {
      "cell_type": "code",
      "execution_count": null,
      "metadata": {
        "id": "JRwLHT83JBCm"
      },
      "outputs": [],
      "source": [
        "# Convertendo a coluna \"datetime\" para o tipo datetime do Pandas:\n",
        "train_df['datetime'] = pd.to_datetime(train_df['datetime'])\n",
        "test_df['datetime'] = pd.to_datetime(test_df['datetime'])"
      ]
    },
    {
      "cell_type": "code",
      "execution_count": null,
      "metadata": {
        "id": "WIm52en-Uo0l"
      },
      "outputs": [],
      "source": [
        "def create_time_features(df):\n",
        "    df['hour_of_day'] = df['datetime'].dt.hour\n",
        "    df['day_of_week'] = df['datetime'].dt.dayofweek # segunda=0, domingo=6\n",
        "    df['month'] = df['datetime'].dt.month\n",
        "    df['year'] = df['datetime'].dt.year\n",
        "    df['is_weekend'] = (df['datetime'].dt.dayofweek >= 5).astype(int)\n",
        "    df['minute_of_day'] = df['datetime'].dt.hour * 60 + df['datetime'].dt.minute\n",
        "    return df\n",
        "\n",
        "train_df = create_time_features(train_df)\n",
        "test_df = create_time_features(test_df)"
      ]
    },
    {
      "cell_type": "code",
      "execution_count": null,
      "metadata": {
        "colab": {
          "base_uri": "https://localhost:8080/",
          "height": 143
        },
        "id": "cw1u6YvVWZGV",
        "outputId": "3c053624-094a-4ec4-9d80-466a3388b262"
      },
      "outputs": [
        {
          "data": {
            "application/vnd.google.colaboratory.intrinsic+json": {
              "type": "dataframe",
              "variable_name": "train_df"
            },
            "text/html": [
              "\n",
              "  <div id=\"df-23dc633a-41dc-451f-9c22-24412ee8eabc\" class=\"colab-df-container\">\n",
              "    <div>\n",
              "<style scoped>\n",
              "    .dataframe tbody tr th:only-of-type {\n",
              "        vertical-align: middle;\n",
              "    }\n",
              "\n",
              "    .dataframe tbody tr th {\n",
              "        vertical-align: top;\n",
              "    }\n",
              "\n",
              "    .dataframe thead th {\n",
              "        text-align: right;\n",
              "    }\n",
              "</style>\n",
              "<table border=\"1\" class=\"dataframe\">\n",
              "  <thead>\n",
              "    <tr style=\"text-align: right;\">\n",
              "      <th></th>\n",
              "      <th>row_id</th>\n",
              "      <th>start_lng</th>\n",
              "      <th>start_lat</th>\n",
              "      <th>end_lng</th>\n",
              "      <th>end_lat</th>\n",
              "      <th>datetime</th>\n",
              "      <th>duration</th>\n",
              "      <th>geopy_distance_km</th>\n",
              "      <th>mid_lat</th>\n",
              "      <th>mid_lng</th>\n",
              "      <th>speed_kmh</th>\n",
              "      <th>hour_of_day</th>\n",
              "      <th>day_of_week</th>\n",
              "      <th>month</th>\n",
              "      <th>year</th>\n",
              "      <th>is_weekend</th>\n",
              "      <th>minute_of_day</th>\n",
              "    </tr>\n",
              "  </thead>\n",
              "  <tbody>\n",
              "    <tr>\n",
              "      <th>0</th>\n",
              "      <td>0</td>\n",
              "      <td>-73.783279</td>\n",
              "      <td>40.644718</td>\n",
              "      <td>-73.963799</td>\n",
              "      <td>40.681320</td>\n",
              "      <td>2015-01-09 00:51:48</td>\n",
              "      <td>1815.0</td>\n",
              "      <td>15.797026</td>\n",
              "      <td>40.663019</td>\n",
              "      <td>-73.873539</td>\n",
              "      <td>31.332945</td>\n",
              "      <td>0</td>\n",
              "      <td>4</td>\n",
              "      <td>1</td>\n",
              "      <td>2015</td>\n",
              "      <td>0</td>\n",
              "      <td>51</td>\n",
              "    </tr>\n",
              "    <tr>\n",
              "      <th>1</th>\n",
              "      <td>1</td>\n",
              "      <td>-122.422385</td>\n",
              "      <td>37.789408</td>\n",
              "      <td>-122.419890</td>\n",
              "      <td>37.766692</td>\n",
              "      <td>2012-09-14 01:46:00</td>\n",
              "      <td>300.0</td>\n",
              "      <td>2.530863</td>\n",
              "      <td>37.778050</td>\n",
              "      <td>-122.421138</td>\n",
              "      <td>30.370360</td>\n",
              "      <td>1</td>\n",
              "      <td>4</td>\n",
              "      <td>9</td>\n",
              "      <td>2012</td>\n",
              "      <td>0</td>\n",
              "      <td>106</td>\n",
              "    </tr>\n",
              "    <tr>\n",
              "      <th>3</th>\n",
              "      <td>3</td>\n",
              "      <td>-122.401603</td>\n",
              "      <td>37.788975</td>\n",
              "      <td>-122.410958</td>\n",
              "      <td>37.796447</td>\n",
              "      <td>2012-09-03 23:48:00</td>\n",
              "      <td>360.0</td>\n",
              "      <td>1.169077</td>\n",
              "      <td>37.792711</td>\n",
              "      <td>-122.406280</td>\n",
              "      <td>11.690775</td>\n",
              "      <td>23</td>\n",
              "      <td>0</td>\n",
              "      <td>9</td>\n",
              "      <td>2012</td>\n",
              "      <td>0</td>\n",
              "      <td>1428</td>\n",
              "    </tr>\n",
              "  </tbody>\n",
              "</table>\n",
              "</div>\n",
              "    <div class=\"colab-df-buttons\">\n",
              "\n",
              "  <div class=\"colab-df-container\">\n",
              "    <button class=\"colab-df-convert\" onclick=\"convertToInteractive('df-23dc633a-41dc-451f-9c22-24412ee8eabc')\"\n",
              "            title=\"Convert this dataframe to an interactive table.\"\n",
              "            style=\"display:none;\">\n",
              "\n",
              "  <svg xmlns=\"http://www.w3.org/2000/svg\" height=\"24px\" viewBox=\"0 -960 960 960\">\n",
              "    <path d=\"M120-120v-720h720v720H120Zm60-500h600v-160H180v160Zm220 220h160v-160H400v160Zm0 220h160v-160H400v160ZM180-400h160v-160H180v160Zm440 0h160v-160H620v160ZM180-180h160v-160H180v160Zm440 0h160v-160H620v160Z\"/>\n",
              "  </svg>\n",
              "    </button>\n",
              "\n",
              "  <style>\n",
              "    .colab-df-container {\n",
              "      display:flex;\n",
              "      gap: 12px;\n",
              "    }\n",
              "\n",
              "    .colab-df-convert {\n",
              "      background-color: #E8F0FE;\n",
              "      border: none;\n",
              "      border-radius: 50%;\n",
              "      cursor: pointer;\n",
              "      display: none;\n",
              "      fill: #1967D2;\n",
              "      height: 32px;\n",
              "      padding: 0 0 0 0;\n",
              "      width: 32px;\n",
              "    }\n",
              "\n",
              "    .colab-df-convert:hover {\n",
              "      background-color: #E2EBFA;\n",
              "      box-shadow: 0px 1px 2px rgba(60, 64, 67, 0.3), 0px 1px 3px 1px rgba(60, 64, 67, 0.15);\n",
              "      fill: #174EA6;\n",
              "    }\n",
              "\n",
              "    .colab-df-buttons div {\n",
              "      margin-bottom: 4px;\n",
              "    }\n",
              "\n",
              "    [theme=dark] .colab-df-convert {\n",
              "      background-color: #3B4455;\n",
              "      fill: #D2E3FC;\n",
              "    }\n",
              "\n",
              "    [theme=dark] .colab-df-convert:hover {\n",
              "      background-color: #434B5C;\n",
              "      box-shadow: 0px 1px 3px 1px rgba(0, 0, 0, 0.15);\n",
              "      filter: drop-shadow(0px 1px 2px rgba(0, 0, 0, 0.3));\n",
              "      fill: #FFFFFF;\n",
              "    }\n",
              "  </style>\n",
              "\n",
              "    <script>\n",
              "      const buttonEl =\n",
              "        document.querySelector('#df-23dc633a-41dc-451f-9c22-24412ee8eabc button.colab-df-convert');\n",
              "      buttonEl.style.display =\n",
              "        google.colab.kernel.accessAllowed ? 'block' : 'none';\n",
              "\n",
              "      async function convertToInteractive(key) {\n",
              "        const element = document.querySelector('#df-23dc633a-41dc-451f-9c22-24412ee8eabc');\n",
              "        const dataTable =\n",
              "          await google.colab.kernel.invokeFunction('convertToInteractive',\n",
              "                                                    [key], {});\n",
              "        if (!dataTable) return;\n",
              "\n",
              "        const docLinkHtml = 'Like what you see? Visit the ' +\n",
              "          '<a target=\"_blank\" href=https://colab.research.google.com/notebooks/data_table.ipynb>data table notebook</a>'\n",
              "          + ' to learn more about interactive tables.';\n",
              "        element.innerHTML = '';\n",
              "        dataTable['output_type'] = 'display_data';\n",
              "        await google.colab.output.renderOutput(dataTable, element);\n",
              "        const docLink = document.createElement('div');\n",
              "        docLink.innerHTML = docLinkHtml;\n",
              "        element.appendChild(docLink);\n",
              "      }\n",
              "    </script>\n",
              "  </div>\n",
              "\n",
              "\n",
              "    <div id=\"df-c68f6353-a3c9-4572-9a9a-d70579ef438f\">\n",
              "      <button class=\"colab-df-quickchart\" onclick=\"quickchart('df-c68f6353-a3c9-4572-9a9a-d70579ef438f')\"\n",
              "                title=\"Suggest charts\"\n",
              "                style=\"display:none;\">\n",
              "\n",
              "<svg xmlns=\"http://www.w3.org/2000/svg\" height=\"24px\"viewBox=\"0 0 24 24\"\n",
              "     width=\"24px\">\n",
              "    <g>\n",
              "        <path d=\"M19 3H5c-1.1 0-2 .9-2 2v14c0 1.1.9 2 2 2h14c1.1 0 2-.9 2-2V5c0-1.1-.9-2-2-2zM9 17H7v-7h2v7zm4 0h-2V7h2v10zm4 0h-2v-4h2v4z\"/>\n",
              "    </g>\n",
              "</svg>\n",
              "      </button>\n",
              "\n",
              "<style>\n",
              "  .colab-df-quickchart {\n",
              "      --bg-color: #E8F0FE;\n",
              "      --fill-color: #1967D2;\n",
              "      --hover-bg-color: #E2EBFA;\n",
              "      --hover-fill-color: #174EA6;\n",
              "      --disabled-fill-color: #AAA;\n",
              "      --disabled-bg-color: #DDD;\n",
              "  }\n",
              "\n",
              "  [theme=dark] .colab-df-quickchart {\n",
              "      --bg-color: #3B4455;\n",
              "      --fill-color: #D2E3FC;\n",
              "      --hover-bg-color: #434B5C;\n",
              "      --hover-fill-color: #FFFFFF;\n",
              "      --disabled-bg-color: #3B4455;\n",
              "      --disabled-fill-color: #666;\n",
              "  }\n",
              "\n",
              "  .colab-df-quickchart {\n",
              "    background-color: var(--bg-color);\n",
              "    border: none;\n",
              "    border-radius: 50%;\n",
              "    cursor: pointer;\n",
              "    display: none;\n",
              "    fill: var(--fill-color);\n",
              "    height: 32px;\n",
              "    padding: 0;\n",
              "    width: 32px;\n",
              "  }\n",
              "\n",
              "  .colab-df-quickchart:hover {\n",
              "    background-color: var(--hover-bg-color);\n",
              "    box-shadow: 0 1px 2px rgba(60, 64, 67, 0.3), 0 1px 3px 1px rgba(60, 64, 67, 0.15);\n",
              "    fill: var(--button-hover-fill-color);\n",
              "  }\n",
              "\n",
              "  .colab-df-quickchart-complete:disabled,\n",
              "  .colab-df-quickchart-complete:disabled:hover {\n",
              "    background-color: var(--disabled-bg-color);\n",
              "    fill: var(--disabled-fill-color);\n",
              "    box-shadow: none;\n",
              "  }\n",
              "\n",
              "  .colab-df-spinner {\n",
              "    border: 2px solid var(--fill-color);\n",
              "    border-color: transparent;\n",
              "    border-bottom-color: var(--fill-color);\n",
              "    animation:\n",
              "      spin 1s steps(1) infinite;\n",
              "  }\n",
              "\n",
              "  @keyframes spin {\n",
              "    0% {\n",
              "      border-color: transparent;\n",
              "      border-bottom-color: var(--fill-color);\n",
              "      border-left-color: var(--fill-color);\n",
              "    }\n",
              "    20% {\n",
              "      border-color: transparent;\n",
              "      border-left-color: var(--fill-color);\n",
              "      border-top-color: var(--fill-color);\n",
              "    }\n",
              "    30% {\n",
              "      border-color: transparent;\n",
              "      border-left-color: var(--fill-color);\n",
              "      border-top-color: var(--fill-color);\n",
              "      border-right-color: var(--fill-color);\n",
              "    }\n",
              "    40% {\n",
              "      border-color: transparent;\n",
              "      border-right-color: var(--fill-color);\n",
              "      border-top-color: var(--fill-color);\n",
              "    }\n",
              "    60% {\n",
              "      border-color: transparent;\n",
              "      border-right-color: var(--fill-color);\n",
              "    }\n",
              "    80% {\n",
              "      border-color: transparent;\n",
              "      border-right-color: var(--fill-color);\n",
              "      border-bottom-color: var(--fill-color);\n",
              "    }\n",
              "    90% {\n",
              "      border-color: transparent;\n",
              "      border-bottom-color: var(--fill-color);\n",
              "    }\n",
              "  }\n",
              "</style>\n",
              "\n",
              "      <script>\n",
              "        async function quickchart(key) {\n",
              "          const quickchartButtonEl =\n",
              "            document.querySelector('#' + key + ' button');\n",
              "          quickchartButtonEl.disabled = true;  // To prevent multiple clicks.\n",
              "          quickchartButtonEl.classList.add('colab-df-spinner');\n",
              "          try {\n",
              "            const charts = await google.colab.kernel.invokeFunction(\n",
              "                'suggestCharts', [key], {});\n",
              "          } catch (error) {\n",
              "            console.error('Error during call to suggestCharts:', error);\n",
              "          }\n",
              "          quickchartButtonEl.classList.remove('colab-df-spinner');\n",
              "          quickchartButtonEl.classList.add('colab-df-quickchart-complete');\n",
              "        }\n",
              "        (() => {\n",
              "          let quickchartButtonEl =\n",
              "            document.querySelector('#df-c68f6353-a3c9-4572-9a9a-d70579ef438f button');\n",
              "          quickchartButtonEl.style.display =\n",
              "            google.colab.kernel.accessAllowed ? 'block' : 'none';\n",
              "        })();\n",
              "      </script>\n",
              "    </div>\n",
              "\n",
              "    </div>\n",
              "  </div>\n"
            ],
            "text/plain": [
              "   row_id   start_lng  start_lat     end_lng    end_lat            datetime  \\\n",
              "0       0  -73.783279  40.644718  -73.963799  40.681320 2015-01-09 00:51:48   \n",
              "1       1 -122.422385  37.789408 -122.419890  37.766692 2012-09-14 01:46:00   \n",
              "3       3 -122.401603  37.788975 -122.410958  37.796447 2012-09-03 23:48:00   \n",
              "\n",
              "   duration  geopy_distance_km    mid_lat     mid_lng  speed_kmh  hour_of_day  \\\n",
              "0    1815.0          15.797026  40.663019  -73.873539  31.332945            0   \n",
              "1     300.0           2.530863  37.778050 -122.421138  30.370360            1   \n",
              "3     360.0           1.169077  37.792711 -122.406280  11.690775           23   \n",
              "\n",
              "   day_of_week  month  year  is_weekend  minute_of_day  \n",
              "0            4      1  2015           0             51  \n",
              "1            4      9  2012           0            106  \n",
              "3            0      9  2012           0           1428  "
            ]
          },
          "execution_count": 28,
          "metadata": {},
          "output_type": "execute_result"
        }
      ],
      "source": [
        "# Verificando as inclusões:\n",
        "train_df.head(3)"
      ]
    },
    {
      "cell_type": "markdown",
      "metadata": {
        "id": "gGbOoJIeoheZ"
      },
      "source": [
        "# **3. Definição das features e da variável-alvo**"
      ]
    },
    {
      "cell_type": "code",
      "execution_count": null,
      "metadata": {
        "id": "lbPlcAo8becY"
      },
      "outputs": [],
      "source": [
        "# Definindo as features:\n",
        "features = [\n",
        "    'start_lng', 'start_lat', 'end_lng', 'end_lat', 'mid_lng', 'mid_lat', 'geopy_distance_km',\n",
        "    'year', 'month', 'day_of_week', 'is_weekend', 'hour_of_day', 'minute_of_day'\n",
        "]"
      ]
    },
    {
      "cell_type": "code",
      "execution_count": null,
      "metadata": {
        "id": "CU8ojaYMbdzR"
      },
      "outputs": [],
      "source": [
        "# Separando features (X) e variável-alvo (y)\n",
        "X = train_df[features]\n",
        "y = train_df['duration']"
      ]
    },
    {
      "cell_type": "markdown",
      "metadata": {
        "id": "hQau16Gxo7PN"
      },
      "source": [
        "# **4. Experimentação de modelos**"
      ]
    },
    {
      "cell_type": "code",
      "execution_count": null,
      "metadata": {
        "id": "bf9OzqwcQMw2"
      },
      "outputs": [],
      "source": [
        "# Divisão do conjunto de treinamento em treino (80%) e teste (20%)\n",
        "from sklearn.model_selection import train_test_split\n",
        "\n",
        "X_train, X_test, y_train, y_test = train_test_split(X, y, test_size=0.2, random_state=42)\n"
      ]
    },
    {
      "cell_type": "markdown",
      "metadata": {
        "id": "sxc67B5vNpHx"
      },
      "source": [
        "## **a) Regressão Linear**\n",
        "\n",
        "Modelo mais simples, mas mais interpretável. Comecei com ele como baseline para entender o desempenho mínimo esperado e a natureza das relações lineares nos dados. Conforme esperado, sua performance foi inferior aos modelos baseados em árvores, indicando a presença de interações não-lineares importantes."
      ]
    },
    {
      "cell_type": "code",
      "execution_count": null,
      "metadata": {
        "colab": {
          "base_uri": "https://localhost:8080/"
        },
        "id": "6KMjYa3MoW_q",
        "outputId": "c60bed46-0a40-4a53-c651-b035101ddba3"
      },
      "outputs": [
        {
          "name": "stdout",
          "output_type": "stream",
          "text": [
            "Linear Regression:\n",
            "MAE: 232.66\n",
            "RMSE: 302.63\n",
            "R²: 0.48\n"
          ]
        }
      ],
      "source": [
        "from sklearn.linear_model import LinearRegression\n",
        "from sklearn.metrics import mean_absolute_error, mean_squared_error, r2_score\n",
        "import numpy as np\n",
        "\n",
        "lr_model = LinearRegression()\n",
        "lr_model.fit(X, y)\n",
        "\n",
        "y_pred_lr = lr_model.predict(X_test)\n",
        "\n",
        "# Avaliação\n",
        "mae_lr = mean_absolute_error(y_test, y_pred_lr)\n",
        "mse_lr = mean_squared_error(y_test, y_pred_lr)\n",
        "rmse_lr = np.sqrt(mse_lr)\n",
        "r2_lr = r2_score(y_test, y_pred_lr)\n",
        "\n",
        "print(\"Linear Regression:\")\n",
        "print(f\"MAE: {mae_lr:.2f}\")\n",
        "print(f\"RMSE: {rmse_lr:.2f}\")\n",
        "print(f\"R²: {r2_lr:.2f}\")\n"
      ]
    },
    {
      "cell_type": "code",
      "execution_count": null,
      "metadata": {
        "colab": {
          "base_uri": "https://localhost:8080/",
          "height": 333
        },
        "id": "aO5I4b46UNWW",
        "outputId": "09cc709a-c4ca-41c5-f7cf-940b96f8b5a7"
      },
      "outputs": [
        {
          "data": {
            "image/png": "[encoded data removed]",
            "text/plain": [
              "<Figure size 300x300 with 1 Axes>"
            ]
          },
          "metadata": {},
          "output_type": "display_data"
        }
      ],
      "source": [
        "# Confirmação visual da performance do modelo de regressão linear\n",
        "plt.figure(figsize=(3,3))\n",
        "plt.scatter(y_test, y_pred_lr, alpha=0.3)\n",
        "plt.plot([y_test.min(), y_test.max()], [y_test.min(), y_test.max()], 'r--')\n",
        "plt.xlabel('Valores Reais')\n",
        "plt.ylabel('Valores Previstos')\n",
        "plt.title('Reais vs Previstos')\n",
        "plt.grid(True)\n",
        "plt.show()"
      ]
    },
    {
      "cell_type": "markdown",
      "metadata": {
        "id": "LAQmYvbrVUxo"
      },
      "source": [
        "🚩 O modelo erra a previsão da duração da viagem, em média, em 233 segundos (**3.9 minutos**). O RMSE, que penaliza mais fortemente os grandes erros, é de aproximadamente 303 segundos (**5 minutos**). Já o coeficiente de determinação (R²) indica que o modelo explica **48%** da variação da duração das viagens.\n",
        "\n",
        "Um modelo que considere possíveis interações não-lineares, testado a seguir, talvez mostre um desempenho melhor."
      ]
    },
    {
      "cell_type": "markdown",
      "metadata": {
        "id": "XMKiJ-OfZAAH"
      },
      "source": [
        "## **b) Random Forest**\n",
        "\n",
        "Em seguida, explorei o Random Forest Regressor, modelo ensemble baseado em árvores. Embora tenha demonstrado performance muito superior à regressão linear, o XGBoost ainda o superou nas métricas de validação, como mostrado na sequência.\n"
      ]
    },
    {
      "cell_type": "code",
      "execution_count": null,
      "metadata": {
        "colab": {
          "base_uri": "https://localhost:8080/"
        },
        "id": "FTpxNuVTZiHP",
        "outputId": "adf712f3-9166-4cf0-9e14-06990d9286d4"
      },
      "outputs": [
        {
          "name": "stdout",
          "output_type": "stream",
          "text": [
            "Random Forest:\n",
            "MAE: 144.42\n",
            "RMSE: 196.19\n",
            "R²: 0.78\n"
          ]
        }
      ],
      "source": [
        "from sklearn.ensemble import RandomForestRegressor\n",
        "\n",
        "rf_model = RandomForestRegressor(n_estimators=100, random_state=42)\n",
        "rf_model.fit(X_train, y_train)\n",
        "\n",
        "y_pred_rf = rf_model.predict(X_test)\n",
        "\n",
        "# Avaliação\n",
        "mae_rf = mean_absolute_error(y_test, y_pred_rf)\n",
        "mse_rf = mean_squared_error(y_test, y_pred_rf)\n",
        "rmse_rf = np.sqrt(mse_rf)\n",
        "r2_rf = r2_score(y_test, y_pred_rf)\n",
        "\n",
        "print(\"Random Forest:\")\n",
        "print(f\"MAE: {mae_rf:.2f}\")\n",
        "print(f\"RMSE: {rmse_rf:.2f}\")\n",
        "print(f\"R²: {r2_rf:.2f}\")"
      ]
    },
    {
      "cell_type": "code",
      "execution_count": null,
      "metadata": {
        "colab": {
          "base_uri": "https://localhost:8080/",
          "height": 333
        },
        "id": "Skm4nAtmuN30",
        "outputId": "9b68b405-c6b0-4098-ab55-c372b9a0ad4b"
      },
      "outputs": [
        {
          "data": {
            "image/png": "[encoded data removed]",
            "text/plain": [
              "<Figure size 300x300 with 1 Axes>"
            ]
          },
          "metadata": {},
          "output_type": "display_data"
        }
      ],
      "source": [
        "# Confirmação visual da performance do modelo de random forest\n",
        "plt.figure(figsize=(3,3))\n",
        "plt.scatter(y_test, y_pred_rf, alpha=0.3)\n",
        "plt.plot([y_test.min(), y_test.max()], [y_test.min(), y_test.max()], 'r--')\n",
        "plt.xlabel('Valores Reais')\n",
        "plt.ylabel('Valores Previstos')\n",
        "plt.title('Reais vs Previstos')\n",
        "plt.grid(True)\n",
        "plt.show()"
      ]
    },
    {
      "cell_type": "markdown",
      "metadata": {
        "id": "7N7803E-rwLK"
      },
      "source": [
        "🚩 O modelo Random Forest apresentou desempenho significativamente superior em relação à regressão linear. O erro absoluto médio caiu para 144 segundos (**2.4 minutos**), enquanto o RMSE caiu para 196 segundos (**3.3 minutos**). O coeficiente de determinação indica que o modelo agora consegue explicar **78%** da variação na duração das viagens."
      ]
    },
    {
      "cell_type": "markdown",
      "metadata": {
        "id": "IFLOuxGCyr5j"
      },
      "source": [
        "## **c) XGBoost**\n",
        "\n",
        "Depois de estabelecer um baseline com modelos mais simples como Regressão Linear e Random Forest, experimentei XGBoost por ser um algoritmo de boosting com ótimo desempenho em dados tabulares (que aqui nem exigiu ajustes finos)."
      ]
    },
    {
      "cell_type": "code",
      "execution_count": null,
      "metadata": {
        "id": "rMC-pkIm1fwa"
      },
      "outputs": [],
      "source": [
        "# !pip install xgboost"
      ]
    },
    {
      "cell_type": "code",
      "execution_count": null,
      "metadata": {
        "colab": {
          "base_uri": "https://localhost:8080/"
        },
        "id": "iWUk7BME1mOU",
        "outputId": "df6bdf36-bcd6-493d-a233-4e541606bfb1"
      },
      "outputs": [
        {
          "name": "stdout",
          "output_type": "stream",
          "text": [
            "XGBoost:\n",
            "MAE: 137.65\n",
            "RMSE: 188.51\n",
            "R²: 0.80\n"
          ]
        }
      ],
      "source": [
        "from xgboost import XGBRegressor\n",
        "from sklearn.metrics import mean_absolute_error, mean_squared_error, r2_score\n",
        "import numpy as np\n",
        "\n",
        "# Instancia o modelo com parâmetros básicos (pode melhorar depois com ajuste fino)\n",
        "xgb_model = XGBRegressor(random_state=42)\n",
        "\n",
        "# Treina o modelo\n",
        "xgb_model.fit(X_train, y_train)\n",
        "\n",
        "# Faz previsões\n",
        "y_pred_xgb = xgb_model.predict(X_test)\n",
        "\n",
        "# Avaliação\n",
        "mae_xgb = mean_absolute_error(y_test, y_pred_xgb)\n",
        "mse_xgb = mean_squared_error(y_test, y_pred_xgb)\n",
        "rmse_xgb = np.sqrt(mse_xgb)\n",
        "r2_xgb = r2_score(y_test, y_pred_xgb)\n",
        "\n",
        "print(\"XGBoost:\")\n",
        "print(f\"MAE: {mae_xgb:.2f}\")\n",
        "print(f\"RMSE: {rmse_xgb:.2f}\")\n",
        "print(f\"R²: {r2_xgb:.2f}\")"
      ]
    },
    {
      "cell_type": "code",
      "execution_count": null,
      "metadata": {
        "colab": {
          "base_uri": "https://localhost:8080/",
          "height": 333
        },
        "id": "KtRlwJfN2Eow",
        "outputId": "e34d9274-910c-4c3a-a66e-3b14b3973e58"
      },
      "outputs": [
        {
          "data": {
            "image/png": "[encoded data removed]",
            "text/plain": [
              "<Figure size 300x300 with 1 Axes>"
            ]
          },
          "metadata": {},
          "output_type": "display_data"
        }
      ],
      "source": [
        "# Confirmação visual da performance do modelo de XGB:\n",
        "plt.figure(figsize=(3,3))\n",
        "plt.scatter(y_test, y_pred_xgb, alpha=0.3)\n",
        "plt.plot([y_test.min(), y_test.max()], [y_test.min(), y_test.max()], 'r--')\n",
        "plt.xlabel('Valores Reais')\n",
        "plt.ylabel('Valores Previstos')\n",
        "plt.title('Reais vs Previstos')\n",
        "plt.grid(True)\n",
        "plt.show()"
      ]
    },
    {
      "cell_type": "markdown",
      "metadata": {
        "id": "RiP50UDrxSja"
      },
      "source": [
        "🚩 O modelo XGBoost se mostrou ainda superior ao random forest. O erro absoluto médio caiu para 138 segundos (**2.3 minutos**), enquanto o RMSE caiu para 188 segundos (**3.1 minutos**). O coeficiente de determinação indica que o modelo agora consegue explicar **80%** da variação na duração das viagens."
      ]
    },
    {
      "cell_type": "markdown",
      "metadata": {
        "id": "ejvcLVbV0OCi"
      },
      "source": [
        "# **5. Aplicação do modelo escolhido (XGBoost)**"
      ]
    },
    {
      "cell_type": "code",
      "execution_count": null,
      "metadata": {
        "colab": {
          "base_uri": "https://localhost:8080/",
          "height": 143
        },
        "id": "EXzM94j91b4m",
        "outputId": "b4cf812b-6afe-4255-c70b-0577d0282940"
      },
      "outputs": [
        {
          "data": {
            "application/vnd.google.colaboratory.intrinsic+json": {
              "summary": "{\n  \"name\": \"test_df\",\n  \"rows\": 30000,\n  \"fields\": [\n    {\n      \"column\": \"row_id\",\n      \"properties\": {\n        \"dtype\": \"number\",\n        \"std\": 8660,\n        \"min\": 0,\n        \"max\": 29999,\n        \"num_unique_values\": 30000,\n        \"samples\": [\n          2308,\n          22404,\n          23397\n        ],\n        \"semantic_type\": \"\",\n        \"description\": \"\"\n      }\n    },\n    {\n      \"column\": \"start_lng\",\n      \"properties\": {\n        \"dtype\": \"number\",\n        \"std\": 22.836034705893997,\n        \"min\": -122.51381299999998,\n        \"max\": -73.640739,\n        \"num_unique_values\": 16801,\n        \"samples\": [\n          -73.981461,\n          -122.42106499999998,\n          -122.45408\n        ],\n        \"semantic_type\": \"\",\n        \"description\": \"\"\n      }\n    },\n    {\n      \"column\": \"start_lat\",\n      \"properties\": {\n        \"dtype\": \"number\",\n        \"std\": 1.4053422035929908,\n        \"min\": 37.614865,\n        \"max\": 40.99128,\n        \"num_unique_values\": 20879,\n        \"samples\": [\n          37.766105,\n          40.680862,\n          37.79074\n        ],\n        \"semantic_type\": \"\",\n        \"description\": \"\"\n      }\n    },\n    {\n      \"column\": \"end_lng\",\n      \"properties\": {\n        \"dtype\": \"number\",\n        \"std\": 22.835436686117152,\n        \"min\": -122.552913,\n        \"max\": -73.44619,\n        \"num_unique_values\": 17816,\n        \"samples\": [\n          -73.921921,\n          -122.394943,\n          -73.948502\n        ],\n        \"semantic_type\": \"\",\n        \"description\": \"\"\n      }\n    },\n    {\n      \"column\": \"end_lat\",\n      \"properties\": {\n        \"dtype\": \"number\",\n        \"std\": 1.406478941601928,\n        \"min\": 37.299533,\n        \"max\": 41.016689,\n        \"num_unique_values\": 22052,\n        \"samples\": [\n          37.798338,\n          37.756263,\n          40.761978000000006\n        ],\n        \"semantic_type\": \"\",\n        \"description\": \"\"\n      }\n    },\n    {\n      \"column\": \"datetime\",\n      \"properties\": {\n        \"dtype\": \"date\",\n        \"min\": \"2012-09-01 00:00:00\",\n        \"max\": \"2016-01-01 02:31:58\",\n        \"num_unique_values\": 27737,\n        \"samples\": [\n          \"2015-05-29 02:02:21\",\n          \"2015-11-25 14:50:45\",\n          \"2015-12-03 11:26:42\"\n        ],\n        \"semantic_type\": \"\",\n        \"description\": \"\"\n      }\n    },\n    {\n      \"column\": \"geopy_distance_km\",\n      \"properties\": {\n        \"dtype\": \"number\",\n        \"std\": 4.858719407300969,\n        \"min\": 0.0,\n        \"max\": 82.92498559376958,\n        \"num_unique_values\": 29890,\n        \"samples\": [\n          2.9228912974569554,\n          3.8169376025766697,\n          2.056777655066867\n        ],\n        \"semantic_type\": \"\",\n        \"description\": \"\"\n      }\n    },\n    {\n      \"column\": \"mid_lat\",\n      \"properties\": {\n        \"dtype\": \"number\",\n        \"std\": 1.4057263046665973,\n        \"min\": 37.4573725,\n        \"max\": 40.9912645,\n        \"num_unique_values\": 27432,\n        \"samples\": [\n          40.748356,\n          40.80680649999999,\n          40.749885500000005\n        ],\n        \"semantic_type\": \"\",\n        \"description\": \"\"\n      }\n    },\n    {\n      \"column\": \"mid_lng\",\n      \"properties\": {\n        \"dtype\": \"number\",\n        \"std\": 22.835725544694437,\n        \"min\": -122.515184,\n        \"max\": -73.615177,\n        \"num_unique_values\": 26011,\n        \"samples\": [\n          -73.982086,\n          -122.404595,\n          -73.9760705\n        ],\n        \"semantic_type\": \"\",\n        \"description\": \"\"\n      }\n    },\n    {\n      \"column\": \"hour_of_day\",\n      \"properties\": {\n        \"dtype\": \"int32\",\n        \"num_unique_values\": 24,\n        \"samples\": [\n          18,\n          14,\n          23\n        ],\n        \"semantic_type\": \"\",\n        \"description\": \"\"\n      }\n    },\n    {\n      \"column\": \"day_of_week\",\n      \"properties\": {\n        \"dtype\": \"int32\",\n        \"num_unique_values\": 7,\n        \"samples\": [\n          5,\n          0,\n          6\n        ],\n        \"semantic_type\": \"\",\n        \"description\": \"\"\n      }\n    },\n    {\n      \"column\": \"month\",\n      \"properties\": {\n        \"dtype\": \"int32\",\n        \"num_unique_values\": 12,\n        \"samples\": [\n          5,\n          1,\n          6\n        ],\n        \"semantic_type\": \"\",\n        \"description\": \"\"\n      }\n    },\n    {\n      \"column\": \"year\",\n      \"properties\": {\n        \"dtype\": \"int32\",\n        \"num_unique_values\": 3,\n        \"samples\": [\n          2015,\n          2012,\n          2016\n        ],\n        \"semantic_type\": \"\",\n        \"description\": \"\"\n      }\n    },\n    {\n      \"column\": \"is_weekend\",\n      \"properties\": {\n        \"dtype\": \"number\",\n        \"std\": 0,\n        \"min\": 0,\n        \"max\": 1,\n        \"num_unique_values\": 2,\n        \"samples\": [\n          0,\n          1\n        ],\n        \"semantic_type\": \"\",\n        \"description\": \"\"\n      }\n    },\n    {\n      \"column\": \"minute_of_day\",\n      \"properties\": {\n        \"dtype\": \"int32\",\n        \"num_unique_values\": 1440,\n        \"samples\": [\n          1158,\n          109\n        ],\n        \"semantic_type\": \"\",\n        \"description\": \"\"\n      }\n    }\n  ]\n}",
              "type": "dataframe",
              "variable_name": "test_df"
            },
            "text/html": [
              "\n",
              "  <div id=\"df-3924f845-01eb-4bcc-97cb-68aaa65765c1\" class=\"colab-df-container\">\n",
              "    <div>\n",
              "<style scoped>\n",
              "    .dataframe tbody tr th:only-of-type {\n",
              "        vertical-align: middle;\n",
              "    }\n",
              "\n",
              "    .dataframe tbody tr th {\n",
              "        vertical-align: top;\n",
              "    }\n",
              "\n",
              "    .dataframe thead th {\n",
              "        text-align: right;\n",
              "    }\n",
              "</style>\n",
              "<table border=\"1\" class=\"dataframe\">\n",
              "  <thead>\n",
              "    <tr style=\"text-align: right;\">\n",
              "      <th></th>\n",
              "      <th>row_id</th>\n",
              "      <th>start_lng</th>\n",
              "      <th>start_lat</th>\n",
              "      <th>end_lng</th>\n",
              "      <th>end_lat</th>\n",
              "      <th>datetime</th>\n",
              "      <th>geopy_distance_km</th>\n",
              "      <th>mid_lat</th>\n",
              "      <th>mid_lng</th>\n",
              "      <th>hour_of_day</th>\n",
              "      <th>day_of_week</th>\n",
              "      <th>month</th>\n",
              "      <th>year</th>\n",
              "      <th>is_weekend</th>\n",
              "      <th>minute_of_day</th>\n",
              "    </tr>\n",
              "  </thead>\n",
              "  <tbody>\n",
              "    <tr>\n",
              "      <th>0</th>\n",
              "      <td>0</td>\n",
              "      <td>-74.001488</td>\n",
              "      <td>40.726170</td>\n",
              "      <td>-73.962097</td>\n",
              "      <td>40.764500</td>\n",
              "      <td>2015-06-27 23:58:40</td>\n",
              "      <td>5.402413</td>\n",
              "      <td>40.745335</td>\n",
              "      <td>-73.981792</td>\n",
              "      <td>23</td>\n",
              "      <td>5</td>\n",
              "      <td>6</td>\n",
              "      <td>2015</td>\n",
              "      <td>1</td>\n",
              "      <td>1438</td>\n",
              "    </tr>\n",
              "    <tr>\n",
              "      <th>1</th>\n",
              "      <td>1</td>\n",
              "      <td>-122.454077</td>\n",
              "      <td>37.774170</td>\n",
              "      <td>-122.428070</td>\n",
              "      <td>37.777023</td>\n",
              "      <td>2012-09-10 01:32:00</td>\n",
              "      <td>2.312981</td>\n",
              "      <td>37.775596</td>\n",
              "      <td>-122.441074</td>\n",
              "      <td>1</td>\n",
              "      <td>0</td>\n",
              "      <td>9</td>\n",
              "      <td>2012</td>\n",
              "      <td>0</td>\n",
              "      <td>92</td>\n",
              "    </tr>\n",
              "    <tr>\n",
              "      <th>2</th>\n",
              "      <td>2</td>\n",
              "      <td>-73.976753</td>\n",
              "      <td>40.751575</td>\n",
              "      <td>-73.789917</td>\n",
              "      <td>40.646965</td>\n",
              "      <td>2015-09-26 11:24:54</td>\n",
              "      <td>19.603442</td>\n",
              "      <td>40.699270</td>\n",
              "      <td>-73.883335</td>\n",
              "      <td>11</td>\n",
              "      <td>5</td>\n",
              "      <td>9</td>\n",
              "      <td>2015</td>\n",
              "      <td>1</td>\n",
              "      <td>684</td>\n",
              "    </tr>\n",
              "  </tbody>\n",
              "</table>\n",
              "</div>\n",
              "    <div class=\"colab-df-buttons\">\n",
              "\n",
              "  <div class=\"colab-df-container\">\n",
              "    <button class=\"colab-df-convert\" onclick=\"convertToInteractive('df-3924f845-01eb-4bcc-97cb-68aaa65765c1')\"\n",
              "            title=\"Convert this dataframe to an interactive table.\"\n",
              "            style=\"display:none;\">\n",
              "\n",
              "  <svg xmlns=\"http://www.w3.org/2000/svg\" height=\"24px\" viewBox=\"0 -960 960 960\">\n",
              "    <path d=\"M120-120v-720h720v720H120Zm60-500h600v-160H180v160Zm220 220h160v-160H400v160Zm0 220h160v-160H400v160ZM180-400h160v-160H180v160Zm440 0h160v-160H620v160ZM180-180h160v-160H180v160Zm440 0h160v-160H620v160Z\"/>\n",
              "  </svg>\n",
              "    </button>\n",
              "\n",
              "  <style>\n",
              "    .colab-df-container {\n",
              "      display:flex;\n",
              "      gap: 12px;\n",
              "    }\n",
              "\n",
              "    .colab-df-convert {\n",
              "      background-color: #E8F0FE;\n",
              "      border: none;\n",
              "      border-radius: 50%;\n",
              "      cursor: pointer;\n",
              "      display: none;\n",
              "      fill: #1967D2;\n",
              "      height: 32px;\n",
              "      padding: 0 0 0 0;\n",
              "      width: 32px;\n",
              "    }\n",
              "\n",
              "    .colab-df-convert:hover {\n",
              "      background-color: #E2EBFA;\n",
              "      box-shadow: 0px 1px 2px rgba(60, 64, 67, 0.3), 0px 1px 3px 1px rgba(60, 64, 67, 0.15);\n",
              "      fill: #174EA6;\n",
              "    }\n",
              "\n",
              "    .colab-df-buttons div {\n",
              "      margin-bottom: 4px;\n",
              "    }\n",
              "\n",
              "    [theme=dark] .colab-df-convert {\n",
              "      background-color: #3B4455;\n",
              "      fill: #D2E3FC;\n",
              "    }\n",
              "\n",
              "    [theme=dark] .colab-df-convert:hover {\n",
              "      background-color: #434B5C;\n",
              "      box-shadow: 0px 1px 3px 1px rgba(0, 0, 0, 0.15);\n",
              "      filter: drop-shadow(0px 1px 2px rgba(0, 0, 0, 0.3));\n",
              "      fill: #FFFFFF;\n",
              "    }\n",
              "  </style>\n",
              "\n",
              "    <script>\n",
              "      const buttonEl =\n",
              "        document.querySelector('#df-3924f845-01eb-4bcc-97cb-68aaa65765c1 button.colab-df-convert');\n",
              "      buttonEl.style.display =\n",
              "        google.colab.kernel.accessAllowed ? 'block' : 'none';\n",
              "\n",
              "      async function convertToInteractive(key) {\n",
              "        const element = document.querySelector('#df-3924f845-01eb-4bcc-97cb-68aaa65765c1');\n",
              "        const dataTable =\n",
              "          await google.colab.kernel.invokeFunction('convertToInteractive',\n",
              "                                                    [key], {});\n",
              "        if (!dataTable) return;\n",
              "\n",
              "        const docLinkHtml = 'Like what you see? Visit the ' +\n",
              "          '<a target=\"_blank\" href=https://colab.research.google.com/notebooks/data_table.ipynb>data table notebook</a>'\n",
              "          + ' to learn more about interactive tables.';\n",
              "        element.innerHTML = '';\n",
              "        dataTable['output_type'] = 'display_data';\n",
              "        await google.colab.output.renderOutput(dataTable, element);\n",
              "        const docLink = document.createElement('div');\n",
              "        docLink.innerHTML = docLinkHtml;\n",
              "        element.appendChild(docLink);\n",
              "      }\n",
              "    </script>\n",
              "  </div>\n",
              "\n",
              "\n",
              "    <div id=\"df-9a145e5b-0ae2-4dc2-a655-86464d7717ad\">\n",
              "      <button class=\"colab-df-quickchart\" onclick=\"quickchart('df-9a145e5b-0ae2-4dc2-a655-86464d7717ad')\"\n",
              "                title=\"Suggest charts\"\n",
              "                style=\"display:none;\">\n",
              "\n",
              "<svg xmlns=\"http://www.w3.org/2000/svg\" height=\"24px\"viewBox=\"0 0 24 24\"\n",
              "     width=\"24px\">\n",
              "    <g>\n",
              "        <path d=\"M19 3H5c-1.1 0-2 .9-2 2v14c0 1.1.9 2 2 2h14c1.1 0 2-.9 2-2V5c0-1.1-.9-2-2-2zM9 17H7v-7h2v7zm4 0h-2V7h2v10zm4 0h-2v-4h2v4z\"/>\n",
              "    </g>\n",
              "</svg>\n",
              "      </button>\n",
              "\n",
              "<style>\n",
              "  .colab-df-quickchart {\n",
              "      --bg-color: #E8F0FE;\n",
              "      --fill-color: #1967D2;\n",
              "      --hover-bg-color: #E2EBFA;\n",
              "      --hover-fill-color: #174EA6;\n",
              "      --disabled-fill-color: #AAA;\n",
              "      --disabled-bg-color: #DDD;\n",
              "  }\n",
              "\n",
              "  [theme=dark] .colab-df-quickchart {\n",
              "      --bg-color: #3B4455;\n",
              "      --fill-color: #D2E3FC;\n",
              "      --hover-bg-color: #434B5C;\n",
              "      --hover-fill-color: #FFFFFF;\n",
              "      --disabled-bg-color: #3B4455;\n",
              "      --disabled-fill-color: #666;\n",
              "  }\n",
              "\n",
              "  .colab-df-quickchart {\n",
              "    background-color: var(--bg-color);\n",
              "    border: none;\n",
              "    border-radius: 50%;\n",
              "    cursor: pointer;\n",
              "    display: none;\n",
              "    fill: var(--fill-color);\n",
              "    height: 32px;\n",
              "    padding: 0;\n",
              "    width: 32px;\n",
              "  }\n",
              "\n",
              "  .colab-df-quickchart:hover {\n",
              "    background-color: var(--hover-bg-color);\n",
              "    box-shadow: 0 1px 2px rgba(60, 64, 67, 0.3), 0 1px 3px 1px rgba(60, 64, 67, 0.15);\n",
              "    fill: var(--button-hover-fill-color);\n",
              "  }\n",
              "\n",
              "  .colab-df-quickchart-complete:disabled,\n",
              "  .colab-df-quickchart-complete:disabled:hover {\n",
              "    background-color: var(--disabled-bg-color);\n",
              "    fill: var(--disabled-fill-color);\n",
              "    box-shadow: none;\n",
              "  }\n",
              "\n",
              "  .colab-df-spinner {\n",
              "    border: 2px solid var(--fill-color);\n",
              "    border-color: transparent;\n",
              "    border-bottom-color: var(--fill-color);\n",
              "    animation:\n",
              "      spin 1s steps(1) infinite;\n",
              "  }\n",
              "\n",
              "  @keyframes spin {\n",
              "    0% {\n",
              "      border-color: transparent;\n",
              "      border-bottom-color: var(--fill-color);\n",
              "      border-left-color: var(--fill-color);\n",
              "    }\n",
              "    20% {\n",
              "      border-color: transparent;\n",
              "      border-left-color: var(--fill-color);\n",
              "      border-top-color: var(--fill-color);\n",
              "    }\n",
              "    30% {\n",
              "      border-color: transparent;\n",
              "      border-left-color: var(--fill-color);\n",
              "      border-top-color: var(--fill-color);\n",
              "      border-right-color: var(--fill-color);\n",
              "    }\n",
              "    40% {\n",
              "      border-color: transparent;\n",
              "      border-right-color: var(--fill-color);\n",
              "      border-top-color: var(--fill-color);\n",
              "    }\n",
              "    60% {\n",
              "      border-color: transparent;\n",
              "      border-right-color: var(--fill-color);\n",
              "    }\n",
              "    80% {\n",
              "      border-color: transparent;\n",
              "      border-right-color: var(--fill-color);\n",
              "      border-bottom-color: var(--fill-color);\n",
              "    }\n",
              "    90% {\n",
              "      border-color: transparent;\n",
              "      border-bottom-color: var(--fill-color);\n",
              "    }\n",
              "  }\n",
              "</style>\n",
              "\n",
              "      <script>\n",
              "        async function quickchart(key) {\n",
              "          const quickchartButtonEl =\n",
              "            document.querySelector('#' + key + ' button');\n",
              "          quickchartButtonEl.disabled = true;  // To prevent multiple clicks.\n",
              "          quickchartButtonEl.classList.add('colab-df-spinner');\n",
              "          try {\n",
              "            const charts = await google.colab.kernel.invokeFunction(\n",
              "                'suggestCharts', [key], {});\n",
              "          } catch (error) {\n",
              "            console.error('Error during call to suggestCharts:', error);\n",
              "          }\n",
              "          quickchartButtonEl.classList.remove('colab-df-spinner');\n",
              "          quickchartButtonEl.classList.add('colab-df-quickchart-complete');\n",
              "        }\n",
              "        (() => {\n",
              "          let quickchartButtonEl =\n",
              "            document.querySelector('#df-9a145e5b-0ae2-4dc2-a655-86464d7717ad button');\n",
              "          quickchartButtonEl.style.display =\n",
              "            google.colab.kernel.accessAllowed ? 'block' : 'none';\n",
              "        })();\n",
              "      </script>\n",
              "    </div>\n",
              "\n",
              "    </div>\n",
              "  </div>\n"
            ],
            "text/plain": [
              "   row_id   start_lng  start_lat     end_lng    end_lat            datetime  \\\n",
              "0       0  -74.001488  40.726170  -73.962097  40.764500 2015-06-27 23:58:40   \n",
              "1       1 -122.454077  37.774170 -122.428070  37.777023 2012-09-10 01:32:00   \n",
              "2       2  -73.976753  40.751575  -73.789917  40.646965 2015-09-26 11:24:54   \n",
              "\n",
              "   geopy_distance_km    mid_lat     mid_lng  hour_of_day  day_of_week  month  \\\n",
              "0           5.402413  40.745335  -73.981792           23            5      6   \n",
              "1           2.312981  37.775596 -122.441074            1            0      9   \n",
              "2          19.603442  40.699270  -73.883335           11            5      9   \n",
              "\n",
              "   year  is_weekend  minute_of_day  \n",
              "0  2015           1           1438  \n",
              "1  2012           0             92  \n",
              "2  2015           1            684  "
            ]
          },
          "execution_count": 40,
          "metadata": {},
          "output_type": "execute_result"
        }
      ],
      "source": [
        "test_df.head(3)"
      ]
    },
    {
      "cell_type": "code",
      "execution_count": null,
      "metadata": {
        "id": "ThZDGQlZ1d73"
      },
      "outputs": [],
      "source": [
        "# Prevendo a duração do conjunto de teste com o modelo:\n",
        "X_test_df = test_df[features]\n",
        "y_pred = xgb_model.predict(X_test_df)"
      ]
    },
    {
      "cell_type": "markdown",
      "metadata": {
        "id": "Qw1zdHJ3Ghj0"
      },
      "source": [
        "# **6. Criação do arquivo de resultados e Exportação do modelo**"
      ]
    },
    {
      "cell_type": "markdown",
      "metadata": {
        "id": "EjKrGx6rGbJ7"
      },
      "source": [
        "🚩 No Kaggle, o resultado submetido através das etapas percorridas e valores aplicados neste notebook alcançou um RMSE (no score privado) de **380**."
      ]
    },
    {
      "cell_type": "code",
      "execution_count": null,
      "metadata": {
        "id": "FfmXRRbQ2v_H"
      },
      "outputs": [],
      "source": [
        "# Montando o arquivo com os resultados para submissão:\n",
        "submission = pd.DataFrame({\n",
        "    'row_id': test_df['row_id'],\n",
        "    'duration': y_pred\n",
        "})\n",
        "\n",
        "submission.to_csv('submission.csv', index=False)"
      ]
    },
    {
      "cell_type": "code",
      "execution_count": null,
      "metadata": {
        "colab": {
          "base_uri": "https://localhost:8080/"
        },
        "id": "8bypDlSS3H23",
        "outputId": "5047fecd-de4b-474a-df37-adc322aacee9"
      },
      "outputs": [
        {
          "data": {
            "text/plain": [
              "['xgboost_model.joblib']"
            ]
          },
          "execution_count": 100,
          "metadata": {},
          "output_type": "execute_result"
        }
      ],
      "source": [
        "# Exportando o modelo treinado como um arquivo .joblib\n",
        "import joblib\n",
        "\n",
        "joblib.dump(xgb_model, 'xgboost_model.joblib')"
      ]
    },
    {
      "cell_type": "markdown",
      "metadata": {
        "id": "qnKvP0-TUAND"
      },
      "source": [
        "# 🚚 **Fase 2: Protótipo Matrix**"
      ]
    },
    {
      "cell_type": "code",
      "execution_count": null,
      "metadata": {
        "id": "K-KIxTaRT5Uc"
      },
      "outputs": [],
      "source": [
        "# !pip install openrouteservice folium"
      ]
    },
    {
      "cell_type": "code",
      "execution_count": null,
      "metadata": {
        "id": "obG9bnlLVrFN"
      },
      "outputs": [],
      "source": [
        "import openrouteservice\n",
        "from openrouteservice import convert\n",
        "import folium\n",
        "from datetime import datetime, timedelta\n",
        "import time\n",
        "\n",
        "xgb_model = joblib.load(\"xgboost_model.joblib\")"
      ]
    },
    {
      "cell_type": "code",
      "execution_count": null,
      "metadata": {
        "id": "diFn4NssUDec"
      },
      "outputs": [],
      "source": [
        "# Definindo coordenadas Uberlândia → Curitiba no formato (longitude, latitude)\n",
        "start_coords = [-48.2754, -18.9146]  # Uberlândia\n",
        "end_coords = [-49.2733, -25.4284]    # Curitiba"
      ]
    },
    {
      "cell_type": "code",
      "execution_count": null,
      "metadata": {
        "id": "X641mRkEUmcN"
      },
      "outputs": [],
      "source": [
        "# Simulando 10 checkpoints entre as duas cidades\n",
        "# n_points = 10\n",
        "# latitudes = np.linspace(start_coords[0], end_coords[0], n_points)\n",
        "# longitudes = np.linspace(start_coords[1], end_coords[1], n_points)"
      ]
    },
    {
      "cell_type": "markdown",
      "metadata": {
        "id": "LRHLeO54_7Gp"
      },
      "source": [
        "🚩 Inicialmente, criei um protótipo que usava o cálculo geodésico entre duas coordenadas para estabelecer checkpoints intermediários (linha acima). Depois, prefiri aproxima-lo mais da realidade com o uso de uma API que fornece a rota real (OpenRouteService, nesse caso)."
      ]
    },
    {
      "cell_type": "code",
      "execution_count": null,
      "metadata": {
        "colab": {
          "base_uri": "https://localhost:8080/"
        },
        "id": "qp325XxlUTMO",
        "outputId": "02452522-ea2c-4949-cd6f-09378f55473f"
      },
      "outputs": [
        {
          "name": "stdout",
          "output_type": "stream",
          "text": [
            "Distância real da rota: 968.35 km\n",
            "Duração estimada pela ORS: 11.25 h\n"
          ]
        }
      ],
      "source": [
        "# Usando OpenRouteService API para calcular rota e estabelecer os checkpoints:\n",
        "api_key = \"eyJvcmciOiI1YjNjZTM1OTc4NTExMTAwMDFjZjYyNDgiLCJpZCI6IjEyMGU5MTVjY2UzNTQ0ZGE5M2EyZWZiNzE0Yzk1NDRiIiwiaCI6Im11cm11cjY0In0=\"\n",
        "client = openrouteservice.Client(key=api_key)\n",
        "\n",
        "# Solicitando rota por carro\n",
        "route = client.directions(\n",
        "    coordinates=[start_coords, end_coords],\n",
        "    profile='driving-car',\n",
        "    format='geojson'\n",
        ")\n",
        "\n",
        "real_distance_km = route['features'][0]['properties']['summary']['distance'] / 1000 # metros pra km\n",
        "real_duration_min = route['features'][0]['properties']['summary']['duration'] / 3600 # seg pra h\n",
        "\n",
        "print(f\"Distância real da rota: {real_distance_km:.2f} km\")\n",
        "print(f\"Duração estimada pela ORS: {real_duration_min:.2f} h\")"
      ]
    },
    {
      "cell_type": "code",
      "execution_count": null,
      "metadata": {
        "id": "Cv_liQp8h-hL"
      },
      "outputs": [],
      "source": [
        "# Extraindo lista de checkpoints a cada ~50 km\n",
        "coords = route['features'][0]['geometry']['coordinates']\n",
        "coords = [(lat, lon) for lon, lat in coords]  # Convertendo para (lat, lon)\n",
        "\n",
        "checkpoints = [coords[0]]\n",
        "dist_threshold = 50  # em km\n",
        "accum_dist = 0.0\n",
        "\n",
        "for i in range(1, len(coords)):\n",
        "    dist = geodesic(coords[i - 1], coords[i]).km\n",
        "    accum_dist += dist\n",
        "    if accum_dist >= dist_threshold:\n",
        "        checkpoints.append(coords[i])\n",
        "        accum_dist = 0.0\n",
        "\n",
        "checkpoints.append(coords[-1])  # Garante o destino\n",
        "\n",
        "# Criando mapa com a rota\n",
        "midpoint = [(start_coords[1] + end_coords[1]) / 2, (start_coords[0] + end_coords[0]) / 2]\n",
        "m = folium.Map(location=midpoint, zoom_start=6)\n",
        "folium.GeoJson(route, name='route').add_to(m)\n",
        "\n",
        "for idx, checkpoint in enumerate(checkpoints):\n",
        "    folium.Marker(\n",
        "        location=checkpoint,\n",
        "        icon=folium.Icon(color='blue', icon='flag'),\n",
        "        tooltip=f\"Checkpoint {idx + 1}\"\n",
        "    ).add_to(m)\n",
        "\n",
        "folium.Marker(location=[start_coords[1], start_coords[0]], tooltip='Uberlândia (Início)', icon=folium.Icon(color='green')).add_to(m)\n",
        "folium.Marker(location=[end_coords[1], end_coords[0]], tooltip='Curitiba (Fim)', icon=folium.Icon(color='red')).add_to(m)\n",
        "\n",
        "# Salvando em HTML\n",
        "m.save(\"mapa_checkpoint.html\")"
      ]
    },
    {
      "cell_type": "code",
      "execution_count": null,
      "metadata": {
        "id": "yjxXcpB3UmbR"
      },
      "outputs": [],
      "source": [
        "# Função pra gerar as features do modelo (por checkpoint):\n",
        "def generate_features(checkpoints, start_time):\n",
        "    features = []\n",
        "    current_time = start_time\n",
        "    total_time = 0\n",
        "    avg_speed_kmh = 80\n",
        "\n",
        "    for i in range(len(checkpoints) - 1):\n",
        "      start = checkpoints[i]\n",
        "      end = checkpoints[i+1]\n",
        "\n",
        "      geopy_distance_km = geodesic(start, end).km\n",
        "      time_hours = geopy_distance_km / avg_speed_kmh\n",
        "      travel_minutes = time_hours * 60\n",
        "      current_time += timedelta(minutes=float(travel_minutes))\n",
        "      total_time += travel_minutes\n",
        "\n",
        "      feat = {\n",
        "        'start_lng': start[1],\n",
        "        'start_lat': start[0],\n",
        "        'end_lng': end[1],\n",
        "        'end_lat': end[0],\n",
        "        'mid_lng': (start[1] + end[1]) / 2,\n",
        "        'mid_lat': (start[0] + end[0]) / 2,\n",
        "        'geopy_distance_km': geopy_distance_km,\n",
        "        'year': current_time.year,\n",
        "        'month': current_time.month,\n",
        "        'day_of_week': current_time.weekday(),\n",
        "        'is_weekend': int(current_time.weekday() >= 5),\n",
        "        'hour_of_day': current_time.hour,\n",
        "        'minute_of_day': current_time.hour * 60 + current_time.minute,\n",
        "      }\n",
        "\n",
        "      features.append(feat)\n",
        "\n",
        "    return pd.DataFrame(features)"
      ]
    },
    {
      "cell_type": "code",
      "execution_count": null,
      "metadata": {
        "id": "zMnlH9RGbN8U"
      },
      "outputs": [],
      "source": [
        "# Gerando as features e carregando o modelo\n",
        "start_time = datetime.now()\n",
        "\n",
        "df_features = generate_features(checkpoints, start_time)\n",
        "\n",
        "X = df_features[['start_lng', 'start_lat', 'end_lng', 'end_lat', 'mid_lng', 'mid_lat', 'geopy_distance_km', 'year', 'month', 'day_of_week', 'is_weekend', 'hour_of_day', 'minute_of_day' ]]\n",
        "\n",
        "y_pred = xgb_model.predict(X)"
      ]
    },
    {
      "cell_type": "code",
      "execution_count": null,
      "metadata": {
        "colab": {
          "base_uri": "https://localhost:8080/"
        },
        "id": "sn9luaZNcIfQ",
        "outputId": "8db4e82a-0d49-4df0-a678-e221b41acd33"
      },
      "outputs": [
        {
          "name": "stdout",
          "output_type": "stream",
          "text": [
            "🚚 Início da viagem: 25/07/2025 19:17\n",
            "🚚 Horário estimado de chegada: 26/07/2025 04:41\n",
            "🚚 Previsão de duração total: 9.39 horas\n",
            "\n",
            "==== ETA por checkpoint ====\n",
            "\n",
            "Checkpoint 1/20\n",
            " 📍 Coordenadas: lat=-19.3137, lon=-48.1079\n",
            " ⏱️ ETA: 25/07/2025 19:50\n",
            "\n",
            "Checkpoint 2/20\n",
            " 📍 Coordenadas: lat=-19.7421, lon=-47.9841\n",
            " ⏱️ ETA: 25/07/2025 20:23\n",
            "\n",
            "Checkpoint 3/20\n",
            " 📍 Coordenadas: lat=-20.1086, lon=-47.7909\n",
            " ⏱️ ETA: 25/07/2025 20:56\n",
            "\n",
            "Checkpoint 4/20\n",
            " 📍 Coordenadas: lat=-20.5454, lon=-47.8565\n",
            " ⏱️ ETA: 25/07/2025 21:29\n",
            "\n",
            "Checkpoint 5/20\n",
            " 📍 Coordenadas: lat=-20.9841, lon=-47.8587\n",
            " ⏱️ ETA: 25/07/2025 22:01\n",
            "\n",
            "Checkpoint 6/20\n",
            " 📍 Coordenadas: lat=-21.3931, lon=-47.6935\n",
            " ⏱️ ETA: 25/07/2025 22:30\n",
            "\n",
            "Checkpoint 7/20\n",
            " 📍 Coordenadas: lat=-21.7911, lon=-47.5191\n",
            " ⏱️ ETA: 25/07/2025 22:58\n",
            "\n",
            "Checkpoint 8/20\n",
            " 📍 Coordenadas: lat=-22.2217, lon=-47.3921\n",
            " ⏱️ ETA: 25/07/2025 23:25\n",
            "\n",
            "Checkpoint 9/20\n",
            " 📍 Coordenadas: lat=-22.6489, lon=-47.3257\n",
            " ⏱️ ETA: 25/07/2025 23:53\n",
            "\n",
            "Checkpoint 10/20\n",
            " 📍 Coordenadas: lat=-23.0100, lon=-47.0914\n",
            " ⏱️ ETA: 26/07/2025 00:19\n",
            "\n",
            "Checkpoint 11/20\n",
            " 📍 Coordenadas: lat=-23.3515, lon=-46.7998\n",
            " ⏱️ ETA: 26/07/2025 00:46\n",
            "\n",
            "Checkpoint 12/20\n",
            " 📍 Coordenadas: lat=-23.7329, lon=-46.8952\n",
            " ⏱️ ETA: 26/07/2025 01:12\n",
            "\n",
            "Checkpoint 13/20\n",
            " 📍 Coordenadas: lat=-24.0298, lon=-47.1778\n",
            " ⏱️ ETA: 26/07/2025 01:40\n",
            "\n",
            "Checkpoint 14/20\n",
            " 📍 Coordenadas: lat=-24.2954, lon=-47.4803\n",
            " ⏱️ ETA: 26/07/2025 02:08\n",
            "\n",
            "Checkpoint 15/20\n",
            " 📍 Coordenadas: lat=-24.5299, lon=-47.8566\n",
            " ⏱️ ETA: 26/07/2025 02:35\n",
            "\n",
            "Checkpoint 16/20\n",
            " 📍 Coordenadas: lat=-24.7782, lon=-48.1930\n",
            " ⏱️ ETA: 26/07/2025 03:02\n",
            "\n",
            "Checkpoint 17/20\n",
            " 📍 Coordenadas: lat=-24.9651, lon=-48.4825\n",
            " ⏱️ ETA: 26/07/2025 03:29\n",
            "\n",
            "Checkpoint 18/20\n",
            " 📍 Coordenadas: lat=-25.1193, lon=-48.8548\n",
            " ⏱️ ETA: 26/07/2025 03:56\n",
            "\n",
            "Checkpoint 19/20\n",
            " 📍 Coordenadas: lat=-25.3832, lon=-49.1677\n",
            " ⏱️ ETA: 26/07/2025 04:23\n",
            "\n",
            "Checkpoint 20/20\n",
            " 📍 Coordenadas: lat=-25.4284, lon=-49.2732\n",
            " ⏱️ ETA: 26/07/2025 04:41\n",
            "\n",
            "\n",
            "✅ Viagem concluída.\n"
          ]
        }
      ],
      "source": [
        "# Exibindo ETA pra cada checkpoint\n",
        "current_time = start_time\n",
        "total_pred_seconds = y_pred.sum()\n",
        "total_pred_hours = total_pred_seconds / 3600\n",
        "arrival_time = start_time + timedelta(seconds=float(total_pred_seconds))\n",
        "\n",
        "print(f\"🚚 Início da viagem: {start_time.strftime('%d/%m/%Y %H:%M')}\")\n",
        "print(f\"🚚 Horário estimado de chegada: {arrival_time.strftime('%d/%m/%Y %H:%M')}\")\n",
        "print(f\"🚚 Previsão de duração total: {total_pred_hours:.2f} horas\\n\")\n",
        "\n",
        "print(\"==== ETA por checkpoint ====\\n\")\n",
        "\n",
        "for i, (checkpoint, pred_sec) in enumerate(zip(checkpoints[1:], y_pred), start=1):  # começa do segundo ponto\n",
        "    current_time += timedelta(seconds=float(pred_sec))\n",
        "    print(f\"Checkpoint {i}/{len(checkpoints) - 1}\")\n",
        "    print(f\" 📍 Coordenadas: lat={checkpoint[0]:.4f}, lon={checkpoint[1]:.4f}\")\n",
        "    print(f\" ⏱️ ETA: {current_time.strftime('%d/%m/%Y %H:%M')}\\n\")\n",
        "\n",
        "    time.sleep(0.5)\n",
        "\n",
        "print(\"\\n✅ Viagem concluída.\")"
      ]
    }
  ],
  "metadata": {
    "colab": {
      "provenance": []
    },
    "kernelspec": {
      "display_name": "Python 3",
      "name": "python3"
    },
    "language_info": {
      "name": "python"
    }
  },
  "nbformat": 4,
  "nbformat_minor": 0
}